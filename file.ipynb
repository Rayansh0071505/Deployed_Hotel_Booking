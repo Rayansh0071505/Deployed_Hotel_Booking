{
 "cells": [
  {
   "cell_type": "code",
   "execution_count": 1,
   "metadata": {},
   "outputs": [],
   "source": [
    "import pandas as pd\n",
    "import numpy as np\n",
    "import matplotlib.pyplot as plt\n",
    "import seaborn as sb\n",
    "import plotly.express as px\n",
    "from sklearn.preprocessing import LabelEncoder\n",
    "from sklearn.model_selection import train_test_split\n",
    "from sklearn.linear_model import LogisticRegression\n",
    "from sklearn.ensemble import RandomForestClassifier,GradientBoostingClassifier\n",
    "from sklearn.naive_bayes import GaussianNB\n",
    "from sklearn import neighbors\n",
    "from sklearn import svm\n",
    "from sklearn.model_selection import GridSearchCV\n",
    "from sklearn.metrics import confusion_matrix,classification_report, accuracy_score\n",
    "import pickle\n",
    "\n"
   ]
  },
  {
   "cell_type": "code",
   "execution_count": 55,
   "metadata": {},
   "outputs": [],
   "source": [
    "data = pd.read_csv('data.csv')"
   ]
  },
  {
   "cell_type": "code",
   "execution_count": 56,
   "metadata": {},
   "outputs": [
    {
     "data": {
      "text/html": [
       "<div>\n",
       "<style scoped>\n",
       "    .dataframe tbody tr th:only-of-type {\n",
       "        vertical-align: middle;\n",
       "    }\n",
       "\n",
       "    .dataframe tbody tr th {\n",
       "        vertical-align: top;\n",
       "    }\n",
       "\n",
       "    .dataframe thead th {\n",
       "        text-align: right;\n",
       "    }\n",
       "</style>\n",
       "<table border=\"1\" class=\"dataframe\">\n",
       "  <thead>\n",
       "    <tr style=\"text-align: right;\">\n",
       "      <th></th>\n",
       "      <th>hotel</th>\n",
       "      <th>is_canceled</th>\n",
       "      <th>lead_time</th>\n",
       "      <th>arrival_date_year</th>\n",
       "      <th>arrival_date_month</th>\n",
       "      <th>arrival_date_week_number</th>\n",
       "      <th>arrival_date_day_of_month</th>\n",
       "      <th>stays_in_weekend_nights</th>\n",
       "      <th>stays_in_week_nights</th>\n",
       "      <th>adults</th>\n",
       "      <th>...</th>\n",
       "      <th>deposit_type</th>\n",
       "      <th>agent</th>\n",
       "      <th>company</th>\n",
       "      <th>days_in_waiting_list</th>\n",
       "      <th>customer_type</th>\n",
       "      <th>adr</th>\n",
       "      <th>required_car_parking_spaces</th>\n",
       "      <th>total_of_special_requests</th>\n",
       "      <th>reservation_status</th>\n",
       "      <th>reservation_status_date</th>\n",
       "    </tr>\n",
       "  </thead>\n",
       "  <tbody>\n",
       "    <tr>\n",
       "      <th>0</th>\n",
       "      <td>Resort Hotel</td>\n",
       "      <td>0</td>\n",
       "      <td>342</td>\n",
       "      <td>2015</td>\n",
       "      <td>July</td>\n",
       "      <td>27</td>\n",
       "      <td>1</td>\n",
       "      <td>0</td>\n",
       "      <td>0</td>\n",
       "      <td>2</td>\n",
       "      <td>...</td>\n",
       "      <td>No Deposit</td>\n",
       "      <td>NaN</td>\n",
       "      <td>NaN</td>\n",
       "      <td>0</td>\n",
       "      <td>Transient</td>\n",
       "      <td>0.0</td>\n",
       "      <td>0</td>\n",
       "      <td>0</td>\n",
       "      <td>Check-Out</td>\n",
       "      <td>01-07-2015</td>\n",
       "    </tr>\n",
       "    <tr>\n",
       "      <th>1</th>\n",
       "      <td>Resort Hotel</td>\n",
       "      <td>0</td>\n",
       "      <td>737</td>\n",
       "      <td>2015</td>\n",
       "      <td>July</td>\n",
       "      <td>27</td>\n",
       "      <td>1</td>\n",
       "      <td>0</td>\n",
       "      <td>0</td>\n",
       "      <td>2</td>\n",
       "      <td>...</td>\n",
       "      <td>No Deposit</td>\n",
       "      <td>NaN</td>\n",
       "      <td>NaN</td>\n",
       "      <td>0</td>\n",
       "      <td>Transient</td>\n",
       "      <td>0.0</td>\n",
       "      <td>0</td>\n",
       "      <td>0</td>\n",
       "      <td>Check-Out</td>\n",
       "      <td>01-07-2015</td>\n",
       "    </tr>\n",
       "    <tr>\n",
       "      <th>2</th>\n",
       "      <td>Resort Hotel</td>\n",
       "      <td>0</td>\n",
       "      <td>7</td>\n",
       "      <td>2015</td>\n",
       "      <td>July</td>\n",
       "      <td>27</td>\n",
       "      <td>1</td>\n",
       "      <td>0</td>\n",
       "      <td>1</td>\n",
       "      <td>1</td>\n",
       "      <td>...</td>\n",
       "      <td>No Deposit</td>\n",
       "      <td>NaN</td>\n",
       "      <td>NaN</td>\n",
       "      <td>0</td>\n",
       "      <td>Transient</td>\n",
       "      <td>75.0</td>\n",
       "      <td>0</td>\n",
       "      <td>0</td>\n",
       "      <td>Check-Out</td>\n",
       "      <td>02-07-2015</td>\n",
       "    </tr>\n",
       "    <tr>\n",
       "      <th>3</th>\n",
       "      <td>Resort Hotel</td>\n",
       "      <td>0</td>\n",
       "      <td>13</td>\n",
       "      <td>2015</td>\n",
       "      <td>July</td>\n",
       "      <td>27</td>\n",
       "      <td>1</td>\n",
       "      <td>0</td>\n",
       "      <td>1</td>\n",
       "      <td>1</td>\n",
       "      <td>...</td>\n",
       "      <td>No Deposit</td>\n",
       "      <td>304.0</td>\n",
       "      <td>NaN</td>\n",
       "      <td>0</td>\n",
       "      <td>Transient</td>\n",
       "      <td>75.0</td>\n",
       "      <td>0</td>\n",
       "      <td>0</td>\n",
       "      <td>Check-Out</td>\n",
       "      <td>02-07-2015</td>\n",
       "    </tr>\n",
       "    <tr>\n",
       "      <th>4</th>\n",
       "      <td>Resort Hotel</td>\n",
       "      <td>0</td>\n",
       "      <td>14</td>\n",
       "      <td>2015</td>\n",
       "      <td>July</td>\n",
       "      <td>27</td>\n",
       "      <td>1</td>\n",
       "      <td>0</td>\n",
       "      <td>2</td>\n",
       "      <td>2</td>\n",
       "      <td>...</td>\n",
       "      <td>No Deposit</td>\n",
       "      <td>240.0</td>\n",
       "      <td>NaN</td>\n",
       "      <td>0</td>\n",
       "      <td>Transient</td>\n",
       "      <td>98.0</td>\n",
       "      <td>0</td>\n",
       "      <td>1</td>\n",
       "      <td>Check-Out</td>\n",
       "      <td>03-07-2015</td>\n",
       "    </tr>\n",
       "  </tbody>\n",
       "</table>\n",
       "<p>5 rows × 32 columns</p>\n",
       "</div>"
      ],
      "text/plain": [
       "          hotel  is_canceled  lead_time  arrival_date_year arrival_date_month  \\\n",
       "0  Resort Hotel            0        342               2015               July   \n",
       "1  Resort Hotel            0        737               2015               July   \n",
       "2  Resort Hotel            0          7               2015               July   \n",
       "3  Resort Hotel            0         13               2015               July   \n",
       "4  Resort Hotel            0         14               2015               July   \n",
       "\n",
       "   arrival_date_week_number  arrival_date_day_of_month  \\\n",
       "0                        27                          1   \n",
       "1                        27                          1   \n",
       "2                        27                          1   \n",
       "3                        27                          1   \n",
       "4                        27                          1   \n",
       "\n",
       "   stays_in_weekend_nights  stays_in_week_nights  adults  ...  deposit_type  \\\n",
       "0                        0                     0       2  ...    No Deposit   \n",
       "1                        0                     0       2  ...    No Deposit   \n",
       "2                        0                     1       1  ...    No Deposit   \n",
       "3                        0                     1       1  ...    No Deposit   \n",
       "4                        0                     2       2  ...    No Deposit   \n",
       "\n",
       "   agent company days_in_waiting_list customer_type   adr  \\\n",
       "0    NaN     NaN                    0     Transient   0.0   \n",
       "1    NaN     NaN                    0     Transient   0.0   \n",
       "2    NaN     NaN                    0     Transient  75.0   \n",
       "3  304.0     NaN                    0     Transient  75.0   \n",
       "4  240.0     NaN                    0     Transient  98.0   \n",
       "\n",
       "   required_car_parking_spaces  total_of_special_requests  reservation_status  \\\n",
       "0                            0                          0           Check-Out   \n",
       "1                            0                          0           Check-Out   \n",
       "2                            0                          0           Check-Out   \n",
       "3                            0                          0           Check-Out   \n",
       "4                            0                          1           Check-Out   \n",
       "\n",
       "  reservation_status_date  \n",
       "0              01-07-2015  \n",
       "1              01-07-2015  \n",
       "2              02-07-2015  \n",
       "3              02-07-2015  \n",
       "4              03-07-2015  \n",
       "\n",
       "[5 rows x 32 columns]"
      ]
     },
     "execution_count": 56,
     "metadata": {},
     "output_type": "execute_result"
    }
   ],
   "source": [
    "data.head()"
   ]
  },
  {
   "cell_type": "markdown",
   "metadata": {},
   "source": [
    "### Check for nan and missing values"
   ]
  },
  {
   "cell_type": "code",
   "execution_count": 57,
   "metadata": {},
   "outputs": [
    {
     "data": {
      "text/plain": [
       "hotel                                  0\n",
       "is_canceled                            0\n",
       "lead_time                              0\n",
       "arrival_date_year                      0\n",
       "arrival_date_month                     0\n",
       "arrival_date_week_number               0\n",
       "arrival_date_day_of_month              0\n",
       "stays_in_weekend_nights                0\n",
       "stays_in_week_nights                   0\n",
       "adults                                 0\n",
       "children                               4\n",
       "babies                                 0\n",
       "meal                                   0\n",
       "country                              488\n",
       "market_segment                         0\n",
       "distribution_channel                   0\n",
       "is_repeated_guest                      0\n",
       "previous_cancellations                 0\n",
       "previous_bookings_not_canceled         0\n",
       "reserved_room_type                     0\n",
       "assigned_room_type                     0\n",
       "booking_changes                        0\n",
       "deposit_type                           0\n",
       "agent                              16340\n",
       "company                           112593\n",
       "days_in_waiting_list                   0\n",
       "customer_type                          0\n",
       "adr                                    0\n",
       "required_car_parking_spaces            0\n",
       "total_of_special_requests              0\n",
       "reservation_status                     0\n",
       "reservation_status_date                0\n",
       "dtype: int64"
      ]
     },
     "execution_count": 57,
     "metadata": {},
     "output_type": "execute_result"
    }
   ],
   "source": [
    "data.isna().sum()"
   ]
  },
  {
   "cell_type": "code",
   "execution_count": 58,
   "metadata": {},
   "outputs": [
    {
     "data": {
      "text/plain": [
       "119390"
      ]
     },
     "execution_count": 58,
     "metadata": {},
     "output_type": "execute_result"
    }
   ],
   "source": [
    "len(data)"
   ]
  },
  {
   "cell_type": "code",
   "execution_count": 59,
   "metadata": {},
   "outputs": [
    {
     "name": "stdout",
     "output_type": "stream",
     "text": [
      "<class 'pandas.core.frame.DataFrame'>\n",
      "RangeIndex: 119390 entries, 0 to 119389\n",
      "Data columns (total 32 columns):\n",
      " #   Column                          Non-Null Count   Dtype  \n",
      "---  ------                          --------------   -----  \n",
      " 0   hotel                           119390 non-null  object \n",
      " 1   is_canceled                     119390 non-null  int64  \n",
      " 2   lead_time                       119390 non-null  int64  \n",
      " 3   arrival_date_year               119390 non-null  int64  \n",
      " 4   arrival_date_month              119390 non-null  object \n",
      " 5   arrival_date_week_number        119390 non-null  int64  \n",
      " 6   arrival_date_day_of_month       119390 non-null  int64  \n",
      " 7   stays_in_weekend_nights         119390 non-null  int64  \n",
      " 8   stays_in_week_nights            119390 non-null  int64  \n",
      " 9   adults                          119390 non-null  int64  \n",
      " 10  children                        119386 non-null  float64\n",
      " 11  babies                          119390 non-null  int64  \n",
      " 12  meal                            119390 non-null  object \n",
      " 13  country                         118902 non-null  object \n",
      " 14  market_segment                  119390 non-null  object \n",
      " 15  distribution_channel            119390 non-null  object \n",
      " 16  is_repeated_guest               119390 non-null  int64  \n",
      " 17  previous_cancellations          119390 non-null  int64  \n",
      " 18  previous_bookings_not_canceled  119390 non-null  int64  \n",
      " 19  reserved_room_type              119390 non-null  object \n",
      " 20  assigned_room_type              119390 non-null  object \n",
      " 21  booking_changes                 119390 non-null  int64  \n",
      " 22  deposit_type                    119390 non-null  object \n",
      " 23  agent                           103050 non-null  float64\n",
      " 24  company                         6797 non-null    float64\n",
      " 25  days_in_waiting_list            119390 non-null  int64  \n",
      " 26  customer_type                   119390 non-null  object \n",
      " 27  adr                             119390 non-null  float64\n",
      " 28  required_car_parking_spaces     119390 non-null  int64  \n",
      " 29  total_of_special_requests       119390 non-null  int64  \n",
      " 30  reservation_status              119390 non-null  object \n",
      " 31  reservation_status_date         119390 non-null  object \n",
      "dtypes: float64(4), int64(16), object(12)\n",
      "memory usage: 29.1+ MB\n"
     ]
    }
   ],
   "source": [
    "data.info()"
   ]
  },
  {
   "cell_type": "markdown",
   "metadata": {},
   "source": [
    "## finding unique item"
   ]
  },
  {
   "cell_type": "code",
   "execution_count": 60,
   "metadata": {},
   "outputs": [
    {
     "data": {
      "text/plain": [
       "BB           92310\n",
       "HB           14463\n",
       "SC           10650\n",
       "Undefined     1169\n",
       "FB             798\n",
       "Name: meal, dtype: int64"
      ]
     },
     "execution_count": 60,
     "metadata": {},
     "output_type": "execute_result"
    }
   ],
   "source": [
    "unique_meal = data['meal'].unique()\n",
    "count_unique_meal = data['meal'].value_counts()\n",
    "count_unique_meal"
   ]
  },
  {
   "cell_type": "code",
   "execution_count": 61,
   "metadata": {},
   "outputs": [
    {
     "data": {
      "text/plain": [
       "City Hotel      79330\n",
       "Resort Hotel    40060\n",
       "Name: hotel, dtype: int64"
      ]
     },
     "execution_count": 61,
     "metadata": {},
     "output_type": "execute_result"
    }
   ],
   "source": [
    "unique_hotel = data['hotel'].value_counts()\n",
    "unique_hotel"
   ]
  },
  {
   "cell_type": "code",
   "execution_count": 62,
   "metadata": {},
   "outputs": [
    {
     "data": {
      "text/plain": [
       "array(['July', 'August', 'September', 'October', 'November', 'December',\n",
       "       'January', 'February', 'March', 'April', 'May', 'June'],\n",
       "      dtype=object)"
      ]
     },
     "execution_count": 62,
     "metadata": {},
     "output_type": "execute_result"
    }
   ],
   "source": [
    "unique_arrival_date_month = data['arrival_date_month'].unique()\n",
    "count_arrival_date_month = data['arrival_date_month'].unique()\n",
    "count_arrival_date_month\n",
    "\n"
   ]
  },
  {
   "cell_type": "markdown",
   "metadata": {},
   "source": [
    "### Data cleaning"
   ]
  },
  {
   "cell_type": "code",
   "execution_count": 63,
   "metadata": {},
   "outputs": [
    {
     "data": {
      "text/html": [
       "<div>\n",
       "<style scoped>\n",
       "    .dataframe tbody tr th:only-of-type {\n",
       "        vertical-align: middle;\n",
       "    }\n",
       "\n",
       "    .dataframe tbody tr th {\n",
       "        vertical-align: top;\n",
       "    }\n",
       "\n",
       "    .dataframe thead th {\n",
       "        text-align: right;\n",
       "    }\n",
       "</style>\n",
       "<table border=\"1\" class=\"dataframe\">\n",
       "  <thead>\n",
       "    <tr style=\"text-align: right;\">\n",
       "      <th></th>\n",
       "      <th>hotel</th>\n",
       "      <th>is_canceled</th>\n",
       "      <th>lead_time</th>\n",
       "      <th>arrival_date_year</th>\n",
       "      <th>arrival_date_month</th>\n",
       "      <th>arrival_date_week_number</th>\n",
       "      <th>arrival_date_day_of_month</th>\n",
       "      <th>stays_in_weekend_nights</th>\n",
       "      <th>stays_in_week_nights</th>\n",
       "      <th>adults</th>\n",
       "      <th>...</th>\n",
       "      <th>deposit_type</th>\n",
       "      <th>agent</th>\n",
       "      <th>company</th>\n",
       "      <th>days_in_waiting_list</th>\n",
       "      <th>customer_type</th>\n",
       "      <th>adr</th>\n",
       "      <th>required_car_parking_spaces</th>\n",
       "      <th>total_of_special_requests</th>\n",
       "      <th>reservation_status</th>\n",
       "      <th>reservation_status_date</th>\n",
       "    </tr>\n",
       "  </thead>\n",
       "  <tbody>\n",
       "    <tr>\n",
       "      <th>0</th>\n",
       "      <td>Resort Hotel</td>\n",
       "      <td>0</td>\n",
       "      <td>342</td>\n",
       "      <td>2015</td>\n",
       "      <td>July</td>\n",
       "      <td>27</td>\n",
       "      <td>1</td>\n",
       "      <td>0</td>\n",
       "      <td>0</td>\n",
       "      <td>2</td>\n",
       "      <td>...</td>\n",
       "      <td>No Deposit</td>\n",
       "      <td>0.0</td>\n",
       "      <td>0.0</td>\n",
       "      <td>0</td>\n",
       "      <td>Transient</td>\n",
       "      <td>0.00</td>\n",
       "      <td>0</td>\n",
       "      <td>0</td>\n",
       "      <td>Check-Out</td>\n",
       "      <td>01-07-2015</td>\n",
       "    </tr>\n",
       "    <tr>\n",
       "      <th>1</th>\n",
       "      <td>Resort Hotel</td>\n",
       "      <td>0</td>\n",
       "      <td>737</td>\n",
       "      <td>2015</td>\n",
       "      <td>July</td>\n",
       "      <td>27</td>\n",
       "      <td>1</td>\n",
       "      <td>0</td>\n",
       "      <td>0</td>\n",
       "      <td>2</td>\n",
       "      <td>...</td>\n",
       "      <td>No Deposit</td>\n",
       "      <td>0.0</td>\n",
       "      <td>0.0</td>\n",
       "      <td>0</td>\n",
       "      <td>Transient</td>\n",
       "      <td>0.00</td>\n",
       "      <td>0</td>\n",
       "      <td>0</td>\n",
       "      <td>Check-Out</td>\n",
       "      <td>01-07-2015</td>\n",
       "    </tr>\n",
       "    <tr>\n",
       "      <th>2</th>\n",
       "      <td>Resort Hotel</td>\n",
       "      <td>0</td>\n",
       "      <td>7</td>\n",
       "      <td>2015</td>\n",
       "      <td>July</td>\n",
       "      <td>27</td>\n",
       "      <td>1</td>\n",
       "      <td>0</td>\n",
       "      <td>1</td>\n",
       "      <td>1</td>\n",
       "      <td>...</td>\n",
       "      <td>No Deposit</td>\n",
       "      <td>0.0</td>\n",
       "      <td>0.0</td>\n",
       "      <td>0</td>\n",
       "      <td>Transient</td>\n",
       "      <td>75.00</td>\n",
       "      <td>0</td>\n",
       "      <td>0</td>\n",
       "      <td>Check-Out</td>\n",
       "      <td>02-07-2015</td>\n",
       "    </tr>\n",
       "    <tr>\n",
       "      <th>3</th>\n",
       "      <td>Resort Hotel</td>\n",
       "      <td>0</td>\n",
       "      <td>13</td>\n",
       "      <td>2015</td>\n",
       "      <td>July</td>\n",
       "      <td>27</td>\n",
       "      <td>1</td>\n",
       "      <td>0</td>\n",
       "      <td>1</td>\n",
       "      <td>1</td>\n",
       "      <td>...</td>\n",
       "      <td>No Deposit</td>\n",
       "      <td>304.0</td>\n",
       "      <td>0.0</td>\n",
       "      <td>0</td>\n",
       "      <td>Transient</td>\n",
       "      <td>75.00</td>\n",
       "      <td>0</td>\n",
       "      <td>0</td>\n",
       "      <td>Check-Out</td>\n",
       "      <td>02-07-2015</td>\n",
       "    </tr>\n",
       "    <tr>\n",
       "      <th>4</th>\n",
       "      <td>Resort Hotel</td>\n",
       "      <td>0</td>\n",
       "      <td>14</td>\n",
       "      <td>2015</td>\n",
       "      <td>July</td>\n",
       "      <td>27</td>\n",
       "      <td>1</td>\n",
       "      <td>0</td>\n",
       "      <td>2</td>\n",
       "      <td>2</td>\n",
       "      <td>...</td>\n",
       "      <td>No Deposit</td>\n",
       "      <td>240.0</td>\n",
       "      <td>0.0</td>\n",
       "      <td>0</td>\n",
       "      <td>Transient</td>\n",
       "      <td>98.00</td>\n",
       "      <td>0</td>\n",
       "      <td>1</td>\n",
       "      <td>Check-Out</td>\n",
       "      <td>03-07-2015</td>\n",
       "    </tr>\n",
       "    <tr>\n",
       "      <th>...</th>\n",
       "      <td>...</td>\n",
       "      <td>...</td>\n",
       "      <td>...</td>\n",
       "      <td>...</td>\n",
       "      <td>...</td>\n",
       "      <td>...</td>\n",
       "      <td>...</td>\n",
       "      <td>...</td>\n",
       "      <td>...</td>\n",
       "      <td>...</td>\n",
       "      <td>...</td>\n",
       "      <td>...</td>\n",
       "      <td>...</td>\n",
       "      <td>...</td>\n",
       "      <td>...</td>\n",
       "      <td>...</td>\n",
       "      <td>...</td>\n",
       "      <td>...</td>\n",
       "      <td>...</td>\n",
       "      <td>...</td>\n",
       "      <td>...</td>\n",
       "    </tr>\n",
       "    <tr>\n",
       "      <th>119385</th>\n",
       "      <td>City Hotel</td>\n",
       "      <td>0</td>\n",
       "      <td>23</td>\n",
       "      <td>2017</td>\n",
       "      <td>August</td>\n",
       "      <td>35</td>\n",
       "      <td>30</td>\n",
       "      <td>2</td>\n",
       "      <td>5</td>\n",
       "      <td>2</td>\n",
       "      <td>...</td>\n",
       "      <td>No Deposit</td>\n",
       "      <td>394.0</td>\n",
       "      <td>0.0</td>\n",
       "      <td>0</td>\n",
       "      <td>Transient</td>\n",
       "      <td>96.14</td>\n",
       "      <td>0</td>\n",
       "      <td>0</td>\n",
       "      <td>Check-Out</td>\n",
       "      <td>06-09-2017</td>\n",
       "    </tr>\n",
       "    <tr>\n",
       "      <th>119386</th>\n",
       "      <td>City Hotel</td>\n",
       "      <td>0</td>\n",
       "      <td>102</td>\n",
       "      <td>2017</td>\n",
       "      <td>August</td>\n",
       "      <td>35</td>\n",
       "      <td>31</td>\n",
       "      <td>2</td>\n",
       "      <td>5</td>\n",
       "      <td>3</td>\n",
       "      <td>...</td>\n",
       "      <td>No Deposit</td>\n",
       "      <td>9.0</td>\n",
       "      <td>0.0</td>\n",
       "      <td>0</td>\n",
       "      <td>Transient</td>\n",
       "      <td>225.43</td>\n",
       "      <td>0</td>\n",
       "      <td>2</td>\n",
       "      <td>Check-Out</td>\n",
       "      <td>07-09-2017</td>\n",
       "    </tr>\n",
       "    <tr>\n",
       "      <th>119387</th>\n",
       "      <td>City Hotel</td>\n",
       "      <td>0</td>\n",
       "      <td>34</td>\n",
       "      <td>2017</td>\n",
       "      <td>August</td>\n",
       "      <td>35</td>\n",
       "      <td>31</td>\n",
       "      <td>2</td>\n",
       "      <td>5</td>\n",
       "      <td>2</td>\n",
       "      <td>...</td>\n",
       "      <td>No Deposit</td>\n",
       "      <td>9.0</td>\n",
       "      <td>0.0</td>\n",
       "      <td>0</td>\n",
       "      <td>Transient</td>\n",
       "      <td>157.71</td>\n",
       "      <td>0</td>\n",
       "      <td>4</td>\n",
       "      <td>Check-Out</td>\n",
       "      <td>07-09-2017</td>\n",
       "    </tr>\n",
       "    <tr>\n",
       "      <th>119388</th>\n",
       "      <td>City Hotel</td>\n",
       "      <td>0</td>\n",
       "      <td>109</td>\n",
       "      <td>2017</td>\n",
       "      <td>August</td>\n",
       "      <td>35</td>\n",
       "      <td>31</td>\n",
       "      <td>2</td>\n",
       "      <td>5</td>\n",
       "      <td>2</td>\n",
       "      <td>...</td>\n",
       "      <td>No Deposit</td>\n",
       "      <td>89.0</td>\n",
       "      <td>0.0</td>\n",
       "      <td>0</td>\n",
       "      <td>Transient</td>\n",
       "      <td>104.40</td>\n",
       "      <td>0</td>\n",
       "      <td>0</td>\n",
       "      <td>Check-Out</td>\n",
       "      <td>07-09-2017</td>\n",
       "    </tr>\n",
       "    <tr>\n",
       "      <th>119389</th>\n",
       "      <td>City Hotel</td>\n",
       "      <td>0</td>\n",
       "      <td>205</td>\n",
       "      <td>2017</td>\n",
       "      <td>August</td>\n",
       "      <td>35</td>\n",
       "      <td>29</td>\n",
       "      <td>2</td>\n",
       "      <td>7</td>\n",
       "      <td>2</td>\n",
       "      <td>...</td>\n",
       "      <td>No Deposit</td>\n",
       "      <td>9.0</td>\n",
       "      <td>0.0</td>\n",
       "      <td>0</td>\n",
       "      <td>Transient</td>\n",
       "      <td>151.20</td>\n",
       "      <td>0</td>\n",
       "      <td>2</td>\n",
       "      <td>Check-Out</td>\n",
       "      <td>07-09-2017</td>\n",
       "    </tr>\n",
       "  </tbody>\n",
       "</table>\n",
       "<p>119390 rows × 32 columns</p>\n",
       "</div>"
      ],
      "text/plain": [
       "               hotel  is_canceled  lead_time  arrival_date_year  \\\n",
       "0       Resort Hotel            0        342               2015   \n",
       "1       Resort Hotel            0        737               2015   \n",
       "2       Resort Hotel            0          7               2015   \n",
       "3       Resort Hotel            0         13               2015   \n",
       "4       Resort Hotel            0         14               2015   \n",
       "...              ...          ...        ...                ...   \n",
       "119385    City Hotel            0         23               2017   \n",
       "119386    City Hotel            0        102               2017   \n",
       "119387    City Hotel            0         34               2017   \n",
       "119388    City Hotel            0        109               2017   \n",
       "119389    City Hotel            0        205               2017   \n",
       "\n",
       "       arrival_date_month  arrival_date_week_number  \\\n",
       "0                    July                        27   \n",
       "1                    July                        27   \n",
       "2                    July                        27   \n",
       "3                    July                        27   \n",
       "4                    July                        27   \n",
       "...                   ...                       ...   \n",
       "119385             August                        35   \n",
       "119386             August                        35   \n",
       "119387             August                        35   \n",
       "119388             August                        35   \n",
       "119389             August                        35   \n",
       "\n",
       "        arrival_date_day_of_month  stays_in_weekend_nights  \\\n",
       "0                               1                        0   \n",
       "1                               1                        0   \n",
       "2                               1                        0   \n",
       "3                               1                        0   \n",
       "4                               1                        0   \n",
       "...                           ...                      ...   \n",
       "119385                         30                        2   \n",
       "119386                         31                        2   \n",
       "119387                         31                        2   \n",
       "119388                         31                        2   \n",
       "119389                         29                        2   \n",
       "\n",
       "        stays_in_week_nights  adults  ...  deposit_type  agent company  \\\n",
       "0                          0       2  ...    No Deposit    0.0     0.0   \n",
       "1                          0       2  ...    No Deposit    0.0     0.0   \n",
       "2                          1       1  ...    No Deposit    0.0     0.0   \n",
       "3                          1       1  ...    No Deposit  304.0     0.0   \n",
       "4                          2       2  ...    No Deposit  240.0     0.0   \n",
       "...                      ...     ...  ...           ...    ...     ...   \n",
       "119385                     5       2  ...    No Deposit  394.0     0.0   \n",
       "119386                     5       3  ...    No Deposit    9.0     0.0   \n",
       "119387                     5       2  ...    No Deposit    9.0     0.0   \n",
       "119388                     5       2  ...    No Deposit   89.0     0.0   \n",
       "119389                     7       2  ...    No Deposit    9.0     0.0   \n",
       "\n",
       "       days_in_waiting_list customer_type     adr  \\\n",
       "0                         0     Transient    0.00   \n",
       "1                         0     Transient    0.00   \n",
       "2                         0     Transient   75.00   \n",
       "3                         0     Transient   75.00   \n",
       "4                         0     Transient   98.00   \n",
       "...                     ...           ...     ...   \n",
       "119385                    0     Transient   96.14   \n",
       "119386                    0     Transient  225.43   \n",
       "119387                    0     Transient  157.71   \n",
       "119388                    0     Transient  104.40   \n",
       "119389                    0     Transient  151.20   \n",
       "\n",
       "        required_car_parking_spaces  total_of_special_requests  \\\n",
       "0                                 0                          0   \n",
       "1                                 0                          0   \n",
       "2                                 0                          0   \n",
       "3                                 0                          0   \n",
       "4                                 0                          1   \n",
       "...                             ...                        ...   \n",
       "119385                            0                          0   \n",
       "119386                            0                          2   \n",
       "119387                            0                          4   \n",
       "119388                            0                          0   \n",
       "119389                            0                          2   \n",
       "\n",
       "        reservation_status reservation_status_date  \n",
       "0                Check-Out              01-07-2015  \n",
       "1                Check-Out              01-07-2015  \n",
       "2                Check-Out              02-07-2015  \n",
       "3                Check-Out              02-07-2015  \n",
       "4                Check-Out              03-07-2015  \n",
       "...                    ...                     ...  \n",
       "119385           Check-Out              06-09-2017  \n",
       "119386           Check-Out              07-09-2017  \n",
       "119387           Check-Out              07-09-2017  \n",
       "119388           Check-Out              07-09-2017  \n",
       "119389           Check-Out              07-09-2017  \n",
       "\n",
       "[119390 rows x 32 columns]"
      ]
     },
     "execution_count": 63,
     "metadata": {},
     "output_type": "execute_result"
    }
   ],
   "source": [
    "nan_replacement = {'children':0,'country':'unknown','agent':0,'company':0}\n",
    "full_data_clean = data.fillna(nan_replacement)\n",
    "full_data_clean.dropna()"
   ]
  },
  {
   "cell_type": "code",
   "execution_count": 64,
   "metadata": {},
   "outputs": [
    {
     "data": {
      "text/plain": [
       "hotel                             0\n",
       "is_canceled                       0\n",
       "lead_time                         0\n",
       "arrival_date_year                 0\n",
       "arrival_date_month                0\n",
       "arrival_date_week_number          0\n",
       "arrival_date_day_of_month         0\n",
       "stays_in_weekend_nights           0\n",
       "stays_in_week_nights              0\n",
       "adults                            0\n",
       "children                          0\n",
       "babies                            0\n",
       "meal                              0\n",
       "country                           0\n",
       "market_segment                    0\n",
       "distribution_channel              0\n",
       "is_repeated_guest                 0\n",
       "previous_cancellations            0\n",
       "previous_bookings_not_canceled    0\n",
       "reserved_room_type                0\n",
       "assigned_room_type                0\n",
       "booking_changes                   0\n",
       "deposit_type                      0\n",
       "agent                             0\n",
       "company                           0\n",
       "days_in_waiting_list              0\n",
       "customer_type                     0\n",
       "adr                               0\n",
       "required_car_parking_spaces       0\n",
       "total_of_special_requests         0\n",
       "reservation_status                0\n",
       "reservation_status_date           0\n",
       "dtype: int64"
      ]
     },
     "execution_count": 64,
     "metadata": {},
     "output_type": "execute_result"
    }
   ],
   "source": [
    "full_data_clean.isna().sum()"
   ]
  },
  {
   "cell_type": "code",
   "execution_count": 65,
   "metadata": {},
   "outputs": [],
   "source": [
    "full_data_clean.to_csv(r'app_data.csv',index=False)"
   ]
  },
  {
   "cell_type": "code",
   "execution_count": 12,
   "metadata": {},
   "outputs": [
    {
     "data": {
      "text/plain": [
       "August       13877\n",
       "July         12661\n",
       "May          11791\n",
       "October      11160\n",
       "April        11089\n",
       "June         10939\n",
       "September    10508\n",
       "March         9794\n",
       "February      8068\n",
       "November      6794\n",
       "December      6780\n",
       "January       5929\n",
       "Name: arrival_date_month, dtype: int64"
      ]
     },
     "execution_count": 12,
     "metadata": {},
     "output_type": "execute_result"
    }
   ],
   "source": [
    "full_data_clean['arrival_date_month'].value_counts()"
   ]
  },
  {
   "cell_type": "markdown",
   "metadata": {},
   "source": [
    "### Cancellation per month"
   ]
  },
  {
   "cell_type": "code",
   "execution_count": 13,
   "metadata": {},
   "outputs": [
    {
     "data": {
      "image/png": "[encoded data removed]",
      "text/plain": [
       "<Figure size 1200x800 with 1 Axes>"
      ]
     },
     "metadata": {},
     "output_type": "display_data"
    }
   ],
   "source": [
    "# Create a count plot\n",
    "plt.figure(figsize=(12, 8))\n",
    "sb.countplot(data=full_data_clean, x='arrival_date_month', hue='is_canceled', palette='Set2',order=['January', 'Feburary', 'March', 'April','May','June','July','August','September','October','November','December'])\n",
    "plt.xlabel('Arrival Date Month')\n",
    "plt.ylabel('Count')\n",
    "plt.title('Cancellations per Arrival Date Month')\n",
    "plt.xticks(rotation=45)\n",
    "plt.tight_layout()\n",
    "plt.legend(title='Cancellation', labels=['Not Canceled', 'Canceled'])\n",
    "plt.show()\n"
   ]
  },
  {
   "cell_type": "markdown",
   "metadata": {},
   "source": [
    "### Cancelled by repeated coustomers"
   ]
  },
  {
   "cell_type": "code",
   "execution_count": 14,
   "metadata": {},
   "outputs": [
    {
     "data": {
      "image/png": "[encoded data removed]",
      "text/plain": [
       "<Figure size 1200x800 with 1 Axes>"
      ]
     },
     "metadata": {},
     "output_type": "display_data"
    }
   ],
   "source": [
    "# Create a count plot\n",
    "plt.figure(figsize=(12, 8))\n",
    "ax = sb.countplot(data=full_data_clean, x='is_canceled', hue='is_repeated_guest', palette='Set2')\n",
    "plt.xlabel('status',fontsize=20)\n",
    "plt.ylabel('Count')\n",
    "plt.title('Cancellations by Repeated Customer')\n",
    "labels = ('First time ','Repeated Guest')\n",
    "ax.set_xticklabels(labels,fontsize=20)\n",
    "plt.tight_layout()\n",
    "plt.grid()\n",
    "plt.legend(title='Cancellation', labels=['Not Canceled', 'Canceled'])\n",
    "\n",
    "plt.show()\n"
   ]
  },
  {
   "cell_type": "code",
   "execution_count": 15,
   "metadata": {},
   "outputs": [
    {
     "data": {
      "text/plain": [
       "178"
      ]
     },
     "execution_count": 15,
     "metadata": {},
     "output_type": "execute_result"
    }
   ],
   "source": [
    "# check for unique countries\n",
    "country_unique = full_data_clean['country'].unique().tolist()\n",
    "len(country_unique)\n",
    "\n",
    "\n",
    "\n",
    "# Total 178 countries"
   ]
  },
  {
   "cell_type": "code",
   "execution_count": 16,
   "metadata": {},
   "outputs": [
    {
     "data": {
      "text/plain": [
       "[48590,\n",
       " 12129,\n",
       " 10415,\n",
       " 8568,\n",
       " 7287,\n",
       " 3766,\n",
       " 3375,\n",
       " 2342,\n",
       " 2224,\n",
       " 2104,\n",
       " 2097,\n",
       " 1730,\n",
       " 1279,\n",
       " 1263,\n",
       " 1024,\n",
       " 999,\n",
       " 919,\n",
       " 669,\n",
       " 632,\n",
       " 607,\n",
       " 500,\n",
       " 488,\n",
       " 447,\n",
       " 435,\n",
       " 426,\n",
       " 362,\n",
       " 287,\n",
       " 259,\n",
       " 248,\n",
       " 230,\n",
       " 214,\n",
       " 197,\n",
       " 171,\n",
       " 152,\n",
       " 133,\n",
       " 128,\n",
       " 103,\n",
       " 101,\n",
       " 100,\n",
       " 85,\n",
       " 83,\n",
       " 83,\n",
       " 81,\n",
       " 80,\n",
       " 75,\n",
       " 74,\n",
       " 71,\n",
       " 68,\n",
       " 67,\n",
       " 65,\n",
       " 65,\n",
       " 59,\n",
       " 57,\n",
       " 57,\n",
       " 55,\n",
       " 51,\n",
       " 51,\n",
       " 51,\n",
       " 48,\n",
       " 40,\n",
       " 39,\n",
       " 39,\n",
       " 35,\n",
       " 34,\n",
       " 32,\n",
       " 32,\n",
       " 31,\n",
       " 29,\n",
       " 29,\n",
       " 28,\n",
       " 27,\n",
       " 26,\n",
       " 26,\n",
       " 24,\n",
       " 22,\n",
       " 21,\n",
       " 19,\n",
       " 19,\n",
       " 18,\n",
       " 18,\n",
       " 18,\n",
       " 17,\n",
       " 16,\n",
       " 16,\n",
       " 15,\n",
       " 14,\n",
       " 14,\n",
       " 14,\n",
       " 13,\n",
       " 12,\n",
       " 12,\n",
       " 12,\n",
       " 12,\n",
       " 11,\n",
       " 10,\n",
       " 10,\n",
       " 10,\n",
       " 9,\n",
       " 9,\n",
       " 9,\n",
       " 8,\n",
       " 8,\n",
       " 8,\n",
       " 8,\n",
       " 8,\n",
       " 7,\n",
       " 7,\n",
       " 7,\n",
       " 6,\n",
       " 6,\n",
       " 6,\n",
       " 5,\n",
       " 5,\n",
       " 5,\n",
       " 5,\n",
       " 5,\n",
       " 5,\n",
       " 4,\n",
       " 4,\n",
       " 4,\n",
       " 4,\n",
       " 4,\n",
       " 4,\n",
       " 4,\n",
       " 4,\n",
       " 3,\n",
       " 3,\n",
       " 3,\n",
       " 3,\n",
       " 3,\n",
       " 3,\n",
       " 2,\n",
       " 2,\n",
       " 2,\n",
       " 2,\n",
       " 2,\n",
       " 2,\n",
       " 2,\n",
       " 2,\n",
       " 2,\n",
       " 2,\n",
       " 2,\n",
       " 2,\n",
       " 2,\n",
       " 2,\n",
       " 2,\n",
       " 2,\n",
       " 2,\n",
       " 1,\n",
       " 1,\n",
       " 1,\n",
       " 1,\n",
       " 1,\n",
       " 1,\n",
       " 1,\n",
       " 1,\n",
       " 1,\n",
       " 1,\n",
       " 1,\n",
       " 1,\n",
       " 1,\n",
       " 1,\n",
       " 1,\n",
       " 1,\n",
       " 1,\n",
       " 1,\n",
       " 1,\n",
       " 1,\n",
       " 1,\n",
       " 1,\n",
       " 1,\n",
       " 1,\n",
       " 1,\n",
       " 1,\n",
       " 1,\n",
       " 1,\n",
       " 1,\n",
       " 1]"
      ]
     },
     "execution_count": 16,
     "metadata": {},
     "output_type": "execute_result"
    }
   ],
   "source": [
    "# check for unique data of country \n",
    "county_unique_value_count =full_data_clean['country'].value_counts().to_dict()\n",
    "county_unique_value_count\n",
    "def getList(category_frequency): \n",
    "    list = [] \n",
    "    for value in category_frequency.values(): \n",
    "        list.append(value) \n",
    "          \n",
    "    return list\n",
    "\n",
    "country_count = getList(county_unique_value_count) \n",
    "# this is to return list of values obtained in dictionary\n",
    "country_count"
   ]
  },
  {
   "cell_type": "code",
   "execution_count": 17,
   "metadata": {},
   "outputs": [
    {
     "data": {
      "application/vnd.plotly.v1+json": {
       "config": {
        "plotlyServerURL": "https://plot.ly"
       },
       "data": [
        {
         "domain": {
          "x": [
           0,
           1
          ],
          "y": [
           0,
           1
          ]
         },
         "hovertemplate": "country=%{label}<br>Number of Guests=%{value}<extra></extra>",
         "labels": [
          "PRT",
          "GBR",
          "FRA",
          "ESP",
          "DEU",
          "IRL",
          "ITA",
          "BEL",
          "NLD",
          "USA",
          "BRA",
          "CHE",
          "AUT",
          "CN",
          "SWE",
          "POL",
          "CHN",
          "ISR",
          "NOR",
          "unknown",
          "RUS",
          "FIN",
          "ROU",
          "DNK",
          "AUS",
          "LUX",
          "JPN",
          "ARG",
          "AGO",
          "HUN",
          "MAR",
          "TUR",
          "CZE",
          "IND",
          "SRB",
          "GRC",
          "DZA",
          "KOR",
          "MEX",
          "HRV",
          "LTU",
          "NZL",
          "EST",
          "BGR",
          "IRN",
          "ISL",
          "ZAF",
          "CHL",
          "COL",
          "UKR",
          "MOZ",
          "LVA",
          "SVN",
          "SVK",
          "THA",
          "CYP",
          "TWN",
          "MYS",
          "URY",
          "PER",
          "SGP",
          "LBN",
          "EGY",
          "TUN",
          "ECU",
          "JOR",
          "CRI",
          "BLR",
          "PHL",
          "SAU",
          "OMN",
          "IRQ",
          "VEN",
          "KAZ",
          "NGA",
          "MLT",
          "CPV",
          "IDN",
          "CMR",
          "BIH",
          "PRI",
          "ALB",
          "KWT",
          "BOL",
          "PAN",
          "ARE",
          "GNB",
          "MKD",
          "LBY",
          "CUB",
          "AZE",
          "GEO",
          "GIB",
          "LKA",
          "VNM",
          "MUS",
          "ARM",
          "JAM",
          "DOM",
          "CAF",
          "SUR",
          "PAK",
          "GTM",
          "KEN",
          "BRB",
          "CIV",
          "PRY",
          "QAT",
          "SYR",
          "MCO",
          "SEN",
          "HKG",
          "BGD",
          "MNE",
          "MDV",
          "ABW",
          "RWA",
          "SLV",
          "TZA",
          "GAB",
          "TMP",
          "GHA",
          "ATA",
          "LIE",
          "LAO",
          "MWI",
          "ETH",
          "TGO",
          "ZWE",
          "COM",
          "AND",
          "UZB",
          "UGA",
          "STP",
          "KNA",
          "MAC",
          "MRT",
          "BWA",
          "SMR",
          "ZMB",
          "ASM",
          "NCL",
          "GUY",
          "KIR",
          "SDN",
          "ATF",
          "TJK",
          "SLE",
          "CYM",
          "LCA",
          "PYF",
          "BHS",
          "DMA",
          "MMR",
          "AIA",
          "BDI",
          "BFA",
          "PLW",
          "SYC",
          "MDG",
          "NAM",
          "BHR",
          "DJI",
          "MLI",
          "NPL",
          "FRO"
         ],
         "legendgroup": "",
         "name": "",
         "showlegend": true,
         "textinfo": "value+percent+label",
         "textposition": "inside",
         "type": "pie",
         "values": [
          21071,
          9676,
          8481,
          6391,
          6069,
          2543,
          2433,
          1868,
          1717,
          1596,
          1394,
          1302,
          1033,
          1025,
          797,
          704,
          537,
          500,
          426,
          421,
          393,
          378,
          366,
          326,
          319,
          178,
          169,
          160,
          157,
          153,
          150,
          146,
          134,
          117,
          98,
          93,
          82,
          78,
          75,
          75,
          74,
          68,
          65,
          63,
          60,
          53,
          49,
          49,
          48,
          48,
          48,
          46,
          42,
          41,
          41,
          40,
          37,
          25,
          23,
          23,
          23,
          22,
          21,
          20,
          19,
          18,
          18,
          17,
          15,
          15,
          14,
          14,
          14,
          14,
          13,
          13,
          12,
          11,
          10,
          10,
          10,
          10,
          10,
          10,
          9,
          8,
          8,
          8,
          8,
          8,
          8,
          7,
          7,
          7,
          6,
          6,
          6,
          6,
          6,
          5,
          5,
          5,
          4,
          4,
          4,
          4,
          4,
          4,
          3,
          3,
          3,
          3,
          3,
          3,
          3,
          2,
          2,
          2,
          2,
          2,
          2,
          2,
          2,
          2,
          2,
          2,
          2,
          2,
          2,
          2,
          2,
          2,
          2,
          2,
          2,
          1,
          1,
          1,
          1,
          1,
          1,
          1,
          1,
          1,
          1,
          1,
          1,
          1,
          1,
          1,
          1,
          1,
          1,
          1,
          1,
          1,
          1,
          1,
          1,
          1,
          1,
          1,
          1,
          1,
          1,
          1
         ]
        }
       ],
       "layout": {
        "legend": {
         "tracegroupgap": 0
        },
        "template": {
         "data": {
          "bar": [
           {
            "error_x": {
             "color": "rgb(36,36,36)"
            },
            "error_y": {
             "color": "rgb(36,36,36)"
            },
            "marker": {
             "line": {
              "color": "rgb(234,234,242)",
              "width": 0.5
             },
             "pattern": {
              "fillmode": "overlay",
              "size": 10,
              "solidity": 0.2
             }
            },
            "type": "bar"
           }
          ],
          "barpolar": [
           {
            "marker": {
             "line": {
              "color": "rgb(234,234,242)",
              "width": 0.5
             },
             "pattern": {
              "fillmode": "overlay",
              "size": 10,
              "solidity": 0.2
             }
            },
            "type": "barpolar"
           }
          ],
          "carpet": [
           {
            "aaxis": {
             "endlinecolor": "rgb(36,36,36)",
             "gridcolor": "white",
             "linecolor": "white",
             "minorgridcolor": "white",
             "startlinecolor": "rgb(36,36,36)"
            },
            "baxis": {
             "endlinecolor": "rgb(36,36,36)",
             "gridcolor": "white",
             "linecolor": "white",
             "minorgridcolor": "white",
             "startlinecolor": "rgb(36,36,36)"
            },
            "type": "carpet"
           }
          ],
          "choropleth": [
           {
            "colorbar": {
             "outlinewidth": 0,
             "tickcolor": "rgb(36,36,36)",
             "ticklen": 8,
             "ticks": "outside",
             "tickwidth": 2
            },
            "type": "choropleth"
           }
          ],
          "contour": [
           {
            "colorbar": {
             "outlinewidth": 0,
             "tickcolor": "rgb(36,36,36)",
             "ticklen": 8,
             "ticks": "outside",
             "tickwidth": 2
            },
            "colorscale": [
             [
              0,
              "rgb(2,4,25)"
             ],
             [
              0.06274509803921569,
              "rgb(24,15,41)"
             ],
             [
              0.12549019607843137,
              "rgb(47,23,57)"
             ],
             [
              0.18823529411764706,
              "rgb(71,28,72)"
             ],
             [
              0.25098039215686274,
              "rgb(97,30,82)"
             ],
             [
              0.3137254901960784,
              "rgb(123,30,89)"
             ],
             [
              0.3764705882352941,
              "rgb(150,27,91)"
             ],
             [
              0.4392156862745098,
              "rgb(177,22,88)"
             ],
             [
              0.5019607843137255,
              "rgb(203,26,79)"
             ],
             [
              0.5647058823529412,
              "rgb(223,47,67)"
             ],
             [
              0.6274509803921569,
              "rgb(236,76,61)"
             ],
             [
              0.6901960784313725,
              "rgb(242,107,73)"
             ],
             [
              0.7529411764705882,
              "rgb(244,135,95)"
             ],
             [
              0.8156862745098039,
              "rgb(245,162,122)"
             ],
             [
              0.8784313725490196,
              "rgb(246,188,153)"
             ],
             [
              0.9411764705882353,
              "rgb(247,212,187)"
             ],
             [
              1,
              "rgb(250,234,220)"
             ]
            ],
            "type": "contour"
           }
          ],
          "contourcarpet": [
           {
            "colorbar": {
             "outlinewidth": 0,
             "tickcolor": "rgb(36,36,36)",
             "ticklen": 8,
             "ticks": "outside",
             "tickwidth": 2
            },
            "type": "contourcarpet"
           }
          ],
          "heatmap": [
           {
            "colorbar": {
             "outlinewidth": 0,
             "tickcolor": "rgb(36,36,36)",
             "ticklen": 8,
             "ticks": "outside",
             "tickwidth": 2
            },
            "colorscale": [
             [
              0,
              "rgb(2,4,25)"
             ],
             [
              0.06274509803921569,
              "rgb(24,15,41)"
             ],
             [
              0.12549019607843137,
              "rgb(47,23,57)"
             ],
             [
              0.18823529411764706,
              "rgb(71,28,72)"
             ],
             [
              0.25098039215686274,
              "rgb(97,30,82)"
             ],
             [
              0.3137254901960784,
              "rgb(123,30,89)"
             ],
             [
              0.3764705882352941,
              "rgb(150,27,91)"
             ],
             [
              0.4392156862745098,
              "rgb(177,22,88)"
             ],
             [
              0.5019607843137255,
              "rgb(203,26,79)"
             ],
             [
              0.5647058823529412,
              "rgb(223,47,67)"
             ],
             [
              0.6274509803921569,
              "rgb(236,76,61)"
             ],
             [
              0.6901960784313725,
              "rgb(242,107,73)"
             ],
             [
              0.7529411764705882,
              "rgb(244,135,95)"
             ],
             [
              0.8156862745098039,
              "rgb(245,162,122)"
             ],
             [
              0.8784313725490196,
              "rgb(246,188,153)"
             ],
             [
              0.9411764705882353,
              "rgb(247,212,187)"
             ],
             [
              1,
              "rgb(250,234,220)"
             ]
            ],
            "type": "heatmap"
           }
          ],
          "heatmapgl": [
           {
            "colorbar": {
             "outlinewidth": 0,
             "tickcolor": "rgb(36,36,36)",
             "ticklen": 8,
             "ticks": "outside",
             "tickwidth": 2
            },
            "colorscale": [
             [
              0,
              "rgb(2,4,25)"
             ],
             [
              0.06274509803921569,
              "rgb(24,15,41)"
             ],
             [
              0.12549019607843137,
              "rgb(47,23,57)"
             ],
             [
              0.18823529411764706,
              "rgb(71,28,72)"
             ],
             [
              0.25098039215686274,
              "rgb(97,30,82)"
             ],
             [
              0.3137254901960784,
              "rgb(123,30,89)"
             ],
             [
              0.3764705882352941,
              "rgb(150,27,91)"
             ],
             [
              0.4392156862745098,
              "rgb(177,22,88)"
             ],
             [
              0.5019607843137255,
              "rgb(203,26,79)"
             ],
             [
              0.5647058823529412,
              "rgb(223,47,67)"
             ],
             [
              0.6274509803921569,
              "rgb(236,76,61)"
             ],
             [
              0.6901960784313725,
              "rgb(242,107,73)"
             ],
             [
              0.7529411764705882,
              "rgb(244,135,95)"
             ],
             [
              0.8156862745098039,
              "rgb(245,162,122)"
             ],
             [
              0.8784313725490196,
              "rgb(246,188,153)"
             ],
             [
              0.9411764705882353,
              "rgb(247,212,187)"
             ],
             [
              1,
              "rgb(250,234,220)"
             ]
            ],
            "type": "heatmapgl"
           }
          ],
          "histogram": [
           {
            "marker": {
             "pattern": {
              "fillmode": "overlay",
              "size": 10,
              "solidity": 0.2
             }
            },
            "type": "histogram"
           }
          ],
          "histogram2d": [
           {
            "colorbar": {
             "outlinewidth": 0,
             "tickcolor": "rgb(36,36,36)",
             "ticklen": 8,
             "ticks": "outside",
             "tickwidth": 2
            },
            "colorscale": [
             [
              0,
              "rgb(2,4,25)"
             ],
             [
              0.06274509803921569,
              "rgb(24,15,41)"
             ],
             [
              0.12549019607843137,
              "rgb(47,23,57)"
             ],
             [
              0.18823529411764706,
              "rgb(71,28,72)"
             ],
             [
              0.25098039215686274,
              "rgb(97,30,82)"
             ],
             [
              0.3137254901960784,
              "rgb(123,30,89)"
             ],
             [
              0.3764705882352941,
              "rgb(150,27,91)"
             ],
             [
              0.4392156862745098,
              "rgb(177,22,88)"
             ],
             [
              0.5019607843137255,
              "rgb(203,26,79)"
             ],
             [
              0.5647058823529412,
              "rgb(223,47,67)"
             ],
             [
              0.6274509803921569,
              "rgb(236,76,61)"
             ],
             [
              0.6901960784313725,
              "rgb(242,107,73)"
             ],
             [
              0.7529411764705882,
              "rgb(244,135,95)"
             ],
             [
              0.8156862745098039,
              "rgb(245,162,122)"
             ],
             [
              0.8784313725490196,
              "rgb(246,188,153)"
             ],
             [
              0.9411764705882353,
              "rgb(247,212,187)"
             ],
             [
              1,
              "rgb(250,234,220)"
             ]
            ],
            "type": "histogram2d"
           }
          ],
          "histogram2dcontour": [
           {
            "colorbar": {
             "outlinewidth": 0,
             "tickcolor": "rgb(36,36,36)",
             "ticklen": 8,
             "ticks": "outside",
             "tickwidth": 2
            },
            "colorscale": [
             [
              0,
              "rgb(2,4,25)"
             ],
             [
              0.06274509803921569,
              "rgb(24,15,41)"
             ],
             [
              0.12549019607843137,
              "rgb(47,23,57)"
             ],
             [
              0.18823529411764706,
              "rgb(71,28,72)"
             ],
             [
              0.25098039215686274,
              "rgb(97,30,82)"
             ],
             [
              0.3137254901960784,
              "rgb(123,30,89)"
             ],
             [
              0.3764705882352941,
              "rgb(150,27,91)"
             ],
             [
              0.4392156862745098,
              "rgb(177,22,88)"
             ],
             [
              0.5019607843137255,
              "rgb(203,26,79)"
             ],
             [
              0.5647058823529412,
              "rgb(223,47,67)"
             ],
             [
              0.6274509803921569,
              "rgb(236,76,61)"
             ],
             [
              0.6901960784313725,
              "rgb(242,107,73)"
             ],
             [
              0.7529411764705882,
              "rgb(244,135,95)"
             ],
             [
              0.8156862745098039,
              "rgb(245,162,122)"
             ],
             [
              0.8784313725490196,
              "rgb(246,188,153)"
             ],
             [
              0.9411764705882353,
              "rgb(247,212,187)"
             ],
             [
              1,
              "rgb(250,234,220)"
             ]
            ],
            "type": "histogram2dcontour"
           }
          ],
          "mesh3d": [
           {
            "colorbar": {
             "outlinewidth": 0,
             "tickcolor": "rgb(36,36,36)",
             "ticklen": 8,
             "ticks": "outside",
             "tickwidth": 2
            },
            "type": "mesh3d"
           }
          ],
          "parcoords": [
           {
            "line": {
             "colorbar": {
              "outlinewidth": 0,
              "tickcolor": "rgb(36,36,36)",
              "ticklen": 8,
              "ticks": "outside",
              "tickwidth": 2
             }
            },
            "type": "parcoords"
           }
          ],
          "pie": [
           {
            "automargin": true,
            "type": "pie"
           }
          ],
          "scatter": [
           {
            "fillpattern": {
             "fillmode": "overlay",
             "size": 10,
             "solidity": 0.2
            },
            "type": "scatter"
           }
          ],
          "scatter3d": [
           {
            "line": {
             "colorbar": {
              "outlinewidth": 0,
              "tickcolor": "rgb(36,36,36)",
              "ticklen": 8,
              "ticks": "outside",
              "tickwidth": 2
             }
            },
            "marker": {
             "colorbar": {
              "outlinewidth": 0,
              "tickcolor": "rgb(36,36,36)",
              "ticklen": 8,
              "ticks": "outside",
              "tickwidth": 2
             }
            },
            "type": "scatter3d"
           }
          ],
          "scattercarpet": [
           {
            "marker": {
             "colorbar": {
              "outlinewidth": 0,
              "tickcolor": "rgb(36,36,36)",
              "ticklen": 8,
              "ticks": "outside",
              "tickwidth": 2
             }
            },
            "type": "scattercarpet"
           }
          ],
          "scattergeo": [
           {
            "marker": {
             "colorbar": {
              "outlinewidth": 0,
              "tickcolor": "rgb(36,36,36)",
              "ticklen": 8,
              "ticks": "outside",
              "tickwidth": 2
             }
            },
            "type": "scattergeo"
           }
          ],
          "scattergl": [
           {
            "marker": {
             "colorbar": {
              "outlinewidth": 0,
              "tickcolor": "rgb(36,36,36)",
              "ticklen": 8,
              "ticks": "outside",
              "tickwidth": 2
             }
            },
            "type": "scattergl"
           }
          ],
          "scattermapbox": [
           {
            "marker": {
             "colorbar": {
              "outlinewidth": 0,
              "tickcolor": "rgb(36,36,36)",
              "ticklen": 8,
              "ticks": "outside",
              "tickwidth": 2
             }
            },
            "type": "scattermapbox"
           }
          ],
          "scatterpolar": [
           {
            "marker": {
             "colorbar": {
              "outlinewidth": 0,
              "tickcolor": "rgb(36,36,36)",
              "ticklen": 8,
              "ticks": "outside",
              "tickwidth": 2
             }
            },
            "type": "scatterpolar"
           }
          ],
          "scatterpolargl": [
           {
            "marker": {
             "colorbar": {
              "outlinewidth": 0,
              "tickcolor": "rgb(36,36,36)",
              "ticklen": 8,
              "ticks": "outside",
              "tickwidth": 2
             }
            },
            "type": "scatterpolargl"
           }
          ],
          "scatterternary": [
           {
            "marker": {
             "colorbar": {
              "outlinewidth": 0,
              "tickcolor": "rgb(36,36,36)",
              "ticklen": 8,
              "ticks": "outside",
              "tickwidth": 2
             }
            },
            "type": "scatterternary"
           }
          ],
          "surface": [
           {
            "colorbar": {
             "outlinewidth": 0,
             "tickcolor": "rgb(36,36,36)",
             "ticklen": 8,
             "ticks": "outside",
             "tickwidth": 2
            },
            "colorscale": [
             [
              0,
              "rgb(2,4,25)"
             ],
             [
              0.06274509803921569,
              "rgb(24,15,41)"
             ],
             [
              0.12549019607843137,
              "rgb(47,23,57)"
             ],
             [
              0.18823529411764706,
              "rgb(71,28,72)"
             ],
             [
              0.25098039215686274,
              "rgb(97,30,82)"
             ],
             [
              0.3137254901960784,
              "rgb(123,30,89)"
             ],
             [
              0.3764705882352941,
              "rgb(150,27,91)"
             ],
             [
              0.4392156862745098,
              "rgb(177,22,88)"
             ],
             [
              0.5019607843137255,
              "rgb(203,26,79)"
             ],
             [
              0.5647058823529412,
              "rgb(223,47,67)"
             ],
             [
              0.6274509803921569,
              "rgb(236,76,61)"
             ],
             [
              0.6901960784313725,
              "rgb(242,107,73)"
             ],
             [
              0.7529411764705882,
              "rgb(244,135,95)"
             ],
             [
              0.8156862745098039,
              "rgb(245,162,122)"
             ],
             [
              0.8784313725490196,
              "rgb(246,188,153)"
             ],
             [
              0.9411764705882353,
              "rgb(247,212,187)"
             ],
             [
              1,
              "rgb(250,234,220)"
             ]
            ],
            "type": "surface"
           }
          ],
          "table": [
           {
            "cells": {
             "fill": {
              "color": "rgb(231,231,240)"
             },
             "line": {
              "color": "white"
             }
            },
            "header": {
             "fill": {
              "color": "rgb(183,183,191)"
             },
             "line": {
              "color": "white"
             }
            },
            "type": "table"
           }
          ]
         },
         "layout": {
          "annotationdefaults": {
           "arrowcolor": "rgb(67,103,167)"
          },
          "autotypenumbers": "strict",
          "coloraxis": {
           "colorbar": {
            "outlinewidth": 0,
            "tickcolor": "rgb(36,36,36)",
            "ticklen": 8,
            "ticks": "outside",
            "tickwidth": 2
           }
          },
          "colorscale": {
           "sequential": [
            [
             0,
             "rgb(2,4,25)"
            ],
            [
             0.06274509803921569,
             "rgb(24,15,41)"
            ],
            [
             0.12549019607843137,
             "rgb(47,23,57)"
            ],
            [
             0.18823529411764706,
             "rgb(71,28,72)"
            ],
            [
             0.25098039215686274,
             "rgb(97,30,82)"
            ],
            [
             0.3137254901960784,
             "rgb(123,30,89)"
            ],
            [
             0.3764705882352941,
             "rgb(150,27,91)"
            ],
            [
             0.4392156862745098,
             "rgb(177,22,88)"
            ],
            [
             0.5019607843137255,
             "rgb(203,26,79)"
            ],
            [
             0.5647058823529412,
             "rgb(223,47,67)"
            ],
            [
             0.6274509803921569,
             "rgb(236,76,61)"
            ],
            [
             0.6901960784313725,
             "rgb(242,107,73)"
            ],
            [
             0.7529411764705882,
             "rgb(244,135,95)"
            ],
            [
             0.8156862745098039,
             "rgb(245,162,122)"
            ],
            [
             0.8784313725490196,
             "rgb(246,188,153)"
            ],
            [
             0.9411764705882353,
             "rgb(247,212,187)"
            ],
            [
             1,
             "rgb(250,234,220)"
            ]
           ],
           "sequentialminus": [
            [
             0,
             "rgb(2,4,25)"
            ],
            [
             0.06274509803921569,
             "rgb(24,15,41)"
            ],
            [
             0.12549019607843137,
             "rgb(47,23,57)"
            ],
            [
             0.18823529411764706,
             "rgb(71,28,72)"
            ],
            [
             0.25098039215686274,
             "rgb(97,30,82)"
            ],
            [
             0.3137254901960784,
             "rgb(123,30,89)"
            ],
            [
             0.3764705882352941,
             "rgb(150,27,91)"
            ],
            [
             0.4392156862745098,
             "rgb(177,22,88)"
            ],
            [
             0.5019607843137255,
             "rgb(203,26,79)"
            ],
            [
             0.5647058823529412,
             "rgb(223,47,67)"
            ],
            [
             0.6274509803921569,
             "rgb(236,76,61)"
            ],
            [
             0.6901960784313725,
             "rgb(242,107,73)"
            ],
            [
             0.7529411764705882,
             "rgb(244,135,95)"
            ],
            [
             0.8156862745098039,
             "rgb(245,162,122)"
            ],
            [
             0.8784313725490196,
             "rgb(246,188,153)"
            ],
            [
             0.9411764705882353,
             "rgb(247,212,187)"
            ],
            [
             1,
             "rgb(250,234,220)"
            ]
           ]
          },
          "colorway": [
           "rgb(76,114,176)",
           "rgb(221,132,82)",
           "rgb(85,168,104)",
           "rgb(196,78,82)",
           "rgb(129,114,179)",
           "rgb(147,120,96)",
           "rgb(218,139,195)",
           "rgb(140,140,140)",
           "rgb(204,185,116)",
           "rgb(100,181,205)"
          ],
          "font": {
           "color": "rgb(36,36,36)"
          },
          "geo": {
           "bgcolor": "white",
           "lakecolor": "white",
           "landcolor": "rgb(234,234,242)",
           "showlakes": true,
           "showland": true,
           "subunitcolor": "white"
          },
          "hoverlabel": {
           "align": "left"
          },
          "hovermode": "closest",
          "paper_bgcolor": "white",
          "plot_bgcolor": "rgb(234,234,242)",
          "polar": {
           "angularaxis": {
            "gridcolor": "white",
            "linecolor": "white",
            "showgrid": true,
            "ticks": ""
           },
           "bgcolor": "rgb(234,234,242)",
           "radialaxis": {
            "gridcolor": "white",
            "linecolor": "white",
            "showgrid": true,
            "ticks": ""
           }
          },
          "scene": {
           "xaxis": {
            "backgroundcolor": "rgb(234,234,242)",
            "gridcolor": "white",
            "gridwidth": 2,
            "linecolor": "white",
            "showbackground": true,
            "showgrid": true,
            "ticks": "",
            "zerolinecolor": "white"
           },
           "yaxis": {
            "backgroundcolor": "rgb(234,234,242)",
            "gridcolor": "white",
            "gridwidth": 2,
            "linecolor": "white",
            "showbackground": true,
            "showgrid": true,
            "ticks": "",
            "zerolinecolor": "white"
           },
           "zaxis": {
            "backgroundcolor": "rgb(234,234,242)",
            "gridcolor": "white",
            "gridwidth": 2,
            "linecolor": "white",
            "showbackground": true,
            "showgrid": true,
            "ticks": "",
            "zerolinecolor": "white"
           }
          },
          "shapedefaults": {
           "fillcolor": "rgb(67,103,167)",
           "line": {
            "width": 0
           },
           "opacity": 0.5
          },
          "ternary": {
           "aaxis": {
            "gridcolor": "white",
            "linecolor": "white",
            "showgrid": true,
            "ticks": ""
           },
           "baxis": {
            "gridcolor": "white",
            "linecolor": "white",
            "showgrid": true,
            "ticks": ""
           },
           "bgcolor": "rgb(234,234,242)",
           "caxis": {
            "gridcolor": "white",
            "linecolor": "white",
            "showgrid": true,
            "ticks": ""
           }
          },
          "xaxis": {
           "automargin": true,
           "gridcolor": "white",
           "linecolor": "white",
           "showgrid": true,
           "ticks": "",
           "title": {
            "standoff": 15
           },
           "zerolinecolor": "white"
          },
          "yaxis": {
           "automargin": true,
           "gridcolor": "white",
           "linecolor": "white",
           "showgrid": true,
           "ticks": "",
           "title": {
            "standoff": 15
           },
           "zerolinecolor": "white"
          }
         }
        },
        "title": {
         "text": "Home country of guests"
        }
       }
      }
     },
     "metadata": {},
     "output_type": "display_data"
    }
   ],
   "source": [
    "# get number of acutal guests by country\n",
    "country_data = pd.DataFrame(full_data_clean[full_data_clean[\"is_canceled\"] == 0][\"country\"].value_counts())\n",
    "#country_data.index.name = \"country\"\n",
    "country_data.rename(columns={\"country\": \"Number of Guests\"}, inplace=True)\n",
    "total_guests = country_data[\"Number of Guests\"].sum()\n",
    "country_data[\"Guests in %\"] = round(country_data[\"Number of Guests\"] / total_guests * 100, 2)\n",
    "country_data[\"country\"] = country_data.index\n",
    "\n",
    "# pie plot\n",
    "fig = px.pie(country_data,\n",
    "             values=\"Number of Guests\",\n",
    "             names=\"country\",\n",
    "             title=\"Home country of guests\",\n",
    "             template=\"seaborn\")\n",
    "fig.update_traces(textposition=\"inside\", textinfo=\"value+percent+label\")\n",
    "fig.show()"
   ]
  },
  {
   "cell_type": "markdown",
   "metadata": {},
   "source": [
    "### Most Busy month"
   ]
  },
  {
   "cell_type": "code",
   "execution_count": 18,
   "metadata": {},
   "outputs": [
    {
     "data": {
      "text/plain": [
       "August       13877\n",
       "July         12661\n",
       "May          11791\n",
       "October      11160\n",
       "April        11089\n",
       "June         10939\n",
       "September    10508\n",
       "March         9794\n",
       "February      8068\n",
       "November      6794\n",
       "December      6780\n",
       "January       5929\n",
       "Name: arrival_date_month, dtype: int64"
      ]
     },
     "execution_count": 18,
     "metadata": {},
     "output_type": "execute_result"
    }
   ],
   "source": [
    "arrival_date_month_value = full_data_clean['arrival_date_month'].value_counts()\n",
    "arrival_date_month_value"
   ]
  },
  {
   "cell_type": "code",
   "execution_count": 19,
   "metadata": {},
   "outputs": [
    {
     "data": {
      "image/png": "[encoded data removed]",
      "text/plain": [
       "<Figure size 1500x1000 with 1 Axes>"
      ]
     },
     "metadata": {},
     "output_type": "display_data"
    }
   ],
   "source": [
    "plt.figure(figsize=(15,10))\n",
    "ax = sb.countplot(data=full_data_clean,x ='arrival_date_month',color='deepskyblue',order=arrival_date_month_value.index)\n",
    "plt.xlabel('Month',fontsize=20)\n",
    "plt.ylabel('Count',fontsize=20)\n",
    "plt.xticks(rotation=45,fontsize=15)\n",
    "plt.title('Most Busy Month',fontsize=25)\n",
    "plt.grid()\n",
    "\n",
    "\n",
    "\n",
    "plt.show()"
   ]
  },
  {
   "cell_type": "markdown",
   "metadata": {},
   "source": [
    "## Feature Engineering"
   ]
  },
  {
   "cell_type": "code",
   "execution_count": 20,
   "metadata": {},
   "outputs": [
    {
     "name": "stdout",
     "output_type": "stream",
     "text": [
      "Columns with dtype 'object': ['hotel', 'arrival_date_month', 'meal', 'country', 'market_segment', 'distribution_channel', 'reserved_room_type', 'assigned_room_type', 'deposit_type', 'customer_type', 'reservation_status', 'reservation_status_date']\n"
     ]
    }
   ],
   "source": [
    "# Initialize an empty list to store column names with dtype 'object'\n",
    "object_columns = []\n",
    "\n",
    "# Iterate over column names and their dtypes using the .dtypes attribute\n",
    "for column, dtype in full_data_clean.dtypes.items():\n",
    "    if dtype == 'object':\n",
    "        object_columns.append(column)\n",
    "\n",
    "# Print the list of column names with dtype 'object'\n",
    "print('Columns with dtype \\'object\\':', object_columns)\n"
   ]
  },
  {
   "cell_type": "code",
   "execution_count": 21,
   "metadata": {},
   "outputs": [
    {
     "name": "stdout",
     "output_type": "stream",
     "text": [
      "<class 'pandas.core.frame.DataFrame'>\n",
      "RangeIndex: 119390 entries, 0 to 119389\n",
      "Data columns (total 32 columns):\n",
      " #   Column                          Non-Null Count   Dtype  \n",
      "---  ------                          --------------   -----  \n",
      " 0   hotel                           119390 non-null  object \n",
      " 1   is_canceled                     119390 non-null  int64  \n",
      " 2   lead_time                       119390 non-null  int64  \n",
      " 3   arrival_date_year               119390 non-null  int64  \n",
      " 4   arrival_date_month              119390 non-null  object \n",
      " 5   arrival_date_week_number        119390 non-null  int64  \n",
      " 6   arrival_date_day_of_month       119390 non-null  int64  \n",
      " 7   stays_in_weekend_nights         119390 non-null  int64  \n",
      " 8   stays_in_week_nights            119390 non-null  int64  \n",
      " 9   adults                          119390 non-null  int64  \n",
      " 10  children                        119390 non-null  float64\n",
      " 11  babies                          119390 non-null  int64  \n",
      " 12  meal                            119390 non-null  object \n",
      " 13  country                         119390 non-null  object \n",
      " 14  market_segment                  119390 non-null  object \n",
      " 15  distribution_channel            119390 non-null  object \n",
      " 16  is_repeated_guest               119390 non-null  int64  \n",
      " 17  previous_cancellations          119390 non-null  int64  \n",
      " 18  previous_bookings_not_canceled  119390 non-null  int64  \n",
      " 19  reserved_room_type              119390 non-null  object \n",
      " 20  assigned_room_type              119390 non-null  object \n",
      " 21  booking_changes                 119390 non-null  int64  \n",
      " 22  deposit_type                    119390 non-null  object \n",
      " 23  agent                           119390 non-null  float64\n",
      " 24  company                         119390 non-null  float64\n",
      " 25  days_in_waiting_list            119390 non-null  int64  \n",
      " 26  customer_type                   119390 non-null  object \n",
      " 27  adr                             119390 non-null  float64\n",
      " 28  required_car_parking_spaces     119390 non-null  int64  \n",
      " 29  total_of_special_requests       119390 non-null  int64  \n",
      " 30  reservation_status              119390 non-null  object \n",
      " 31  reservation_status_date         119390 non-null  object \n",
      "dtypes: float64(4), int64(16), object(12)\n",
      "memory usage: 29.1+ MB\n"
     ]
    }
   ],
   "source": [
    "full_data_clean.info()"
   ]
  },
  {
   "cell_type": "code",
   "execution_count": 22,
   "metadata": {},
   "outputs": [],
   "source": [
    "labelencoder = LabelEncoder()\n",
    "def conversion_obj(n):\n",
    "    for i in n:\n",
    "        full_data_clean[i] = labelencoder.fit_transform(full_data_clean[i])\n",
    "\n",
    "\n",
    "conversion_obj(object_columns)        "
   ]
  },
  {
   "cell_type": "code",
   "execution_count": 23,
   "metadata": {},
   "outputs": [
    {
     "name": "stdout",
     "output_type": "stream",
     "text": [
      "<class 'pandas.core.frame.DataFrame'>\n",
      "RangeIndex: 119390 entries, 0 to 119389\n",
      "Data columns (total 32 columns):\n",
      " #   Column                          Non-Null Count   Dtype  \n",
      "---  ------                          --------------   -----  \n",
      " 0   hotel                           119390 non-null  int32  \n",
      " 1   is_canceled                     119390 non-null  int64  \n",
      " 2   lead_time                       119390 non-null  int64  \n",
      " 3   arrival_date_year               119390 non-null  int64  \n",
      " 4   arrival_date_month              119390 non-null  int32  \n",
      " 5   arrival_date_week_number        119390 non-null  int64  \n",
      " 6   arrival_date_day_of_month       119390 non-null  int64  \n",
      " 7   stays_in_weekend_nights         119390 non-null  int64  \n",
      " 8   stays_in_week_nights            119390 non-null  int64  \n",
      " 9   adults                          119390 non-null  int64  \n",
      " 10  children                        119390 non-null  float64\n",
      " 11  babies                          119390 non-null  int64  \n",
      " 12  meal                            119390 non-null  int32  \n",
      " 13  country                         119390 non-null  int32  \n",
      " 14  market_segment                  119390 non-null  int32  \n",
      " 15  distribution_channel            119390 non-null  int32  \n",
      " 16  is_repeated_guest               119390 non-null  int64  \n",
      " 17  previous_cancellations          119390 non-null  int64  \n",
      " 18  previous_bookings_not_canceled  119390 non-null  int64  \n",
      " 19  reserved_room_type              119390 non-null  int32  \n",
      " 20  assigned_room_type              119390 non-null  int32  \n",
      " 21  booking_changes                 119390 non-null  int64  \n",
      " 22  deposit_type                    119390 non-null  int32  \n",
      " 23  agent                           119390 non-null  float64\n",
      " 24  company                         119390 non-null  float64\n",
      " 25  days_in_waiting_list            119390 non-null  int64  \n",
      " 26  customer_type                   119390 non-null  int32  \n",
      " 27  adr                             119390 non-null  float64\n",
      " 28  required_car_parking_spaces     119390 non-null  int64  \n",
      " 29  total_of_special_requests       119390 non-null  int64  \n",
      " 30  reservation_status              119390 non-null  int32  \n",
      " 31  reservation_status_date         119390 non-null  int32  \n",
      "dtypes: float64(4), int32(12), int64(16)\n",
      "memory usage: 23.7 MB\n"
     ]
    }
   ],
   "source": [
    "full_data_clean.info()"
   ]
  },
  {
   "cell_type": "code",
   "execution_count": 24,
   "metadata": {},
   "outputs": [
    {
     "data": {
      "text/html": [
       "<div>\n",
       "<style scoped>\n",
       "    .dataframe tbody tr th:only-of-type {\n",
       "        vertical-align: middle;\n",
       "    }\n",
       "\n",
       "    .dataframe tbody tr th {\n",
       "        vertical-align: top;\n",
       "    }\n",
       "\n",
       "    .dataframe thead th {\n",
       "        text-align: right;\n",
       "    }\n",
       "</style>\n",
       "<table border=\"1\" class=\"dataframe\">\n",
       "  <thead>\n",
       "    <tr style=\"text-align: right;\">\n",
       "      <th></th>\n",
       "      <th>hotel</th>\n",
       "      <th>is_canceled</th>\n",
       "      <th>lead_time</th>\n",
       "      <th>arrival_date_year</th>\n",
       "      <th>arrival_date_month</th>\n",
       "      <th>arrival_date_week_number</th>\n",
       "      <th>arrival_date_day_of_month</th>\n",
       "      <th>stays_in_weekend_nights</th>\n",
       "      <th>stays_in_week_nights</th>\n",
       "      <th>adults</th>\n",
       "      <th>...</th>\n",
       "      <th>deposit_type</th>\n",
       "      <th>agent</th>\n",
       "      <th>company</th>\n",
       "      <th>days_in_waiting_list</th>\n",
       "      <th>customer_type</th>\n",
       "      <th>adr</th>\n",
       "      <th>required_car_parking_spaces</th>\n",
       "      <th>total_of_special_requests</th>\n",
       "      <th>reservation_status</th>\n",
       "      <th>reservation_status_date</th>\n",
       "    </tr>\n",
       "  </thead>\n",
       "  <tbody>\n",
       "    <tr>\n",
       "      <th>0</th>\n",
       "      <td>1</td>\n",
       "      <td>0</td>\n",
       "      <td>342</td>\n",
       "      <td>2015</td>\n",
       "      <td>5</td>\n",
       "      <td>27</td>\n",
       "      <td>1</td>\n",
       "      <td>0</td>\n",
       "      <td>0</td>\n",
       "      <td>2</td>\n",
       "      <td>...</td>\n",
       "      <td>0</td>\n",
       "      <td>0.0</td>\n",
       "      <td>0.0</td>\n",
       "      <td>0</td>\n",
       "      <td>2</td>\n",
       "      <td>0.0</td>\n",
       "      <td>0</td>\n",
       "      <td>0</td>\n",
       "      <td>1</td>\n",
       "      <td>15</td>\n",
       "    </tr>\n",
       "    <tr>\n",
       "      <th>1</th>\n",
       "      <td>1</td>\n",
       "      <td>0</td>\n",
       "      <td>737</td>\n",
       "      <td>2015</td>\n",
       "      <td>5</td>\n",
       "      <td>27</td>\n",
       "      <td>1</td>\n",
       "      <td>0</td>\n",
       "      <td>0</td>\n",
       "      <td>2</td>\n",
       "      <td>...</td>\n",
       "      <td>0</td>\n",
       "      <td>0.0</td>\n",
       "      <td>0.0</td>\n",
       "      <td>0</td>\n",
       "      <td>2</td>\n",
       "      <td>0.0</td>\n",
       "      <td>0</td>\n",
       "      <td>0</td>\n",
       "      <td>1</td>\n",
       "      <td>15</td>\n",
       "    </tr>\n",
       "    <tr>\n",
       "      <th>2</th>\n",
       "      <td>1</td>\n",
       "      <td>0</td>\n",
       "      <td>7</td>\n",
       "      <td>2015</td>\n",
       "      <td>5</td>\n",
       "      <td>27</td>\n",
       "      <td>1</td>\n",
       "      <td>0</td>\n",
       "      <td>1</td>\n",
       "      <td>1</td>\n",
       "      <td>...</td>\n",
       "      <td>0</td>\n",
       "      <td>0.0</td>\n",
       "      <td>0.0</td>\n",
       "      <td>0</td>\n",
       "      <td>2</td>\n",
       "      <td>75.0</td>\n",
       "      <td>0</td>\n",
       "      <td>0</td>\n",
       "      <td>1</td>\n",
       "      <td>46</td>\n",
       "    </tr>\n",
       "    <tr>\n",
       "      <th>3</th>\n",
       "      <td>1</td>\n",
       "      <td>0</td>\n",
       "      <td>13</td>\n",
       "      <td>2015</td>\n",
       "      <td>5</td>\n",
       "      <td>27</td>\n",
       "      <td>1</td>\n",
       "      <td>0</td>\n",
       "      <td>1</td>\n",
       "      <td>1</td>\n",
       "      <td>...</td>\n",
       "      <td>0</td>\n",
       "      <td>304.0</td>\n",
       "      <td>0.0</td>\n",
       "      <td>0</td>\n",
       "      <td>2</td>\n",
       "      <td>75.0</td>\n",
       "      <td>0</td>\n",
       "      <td>0</td>\n",
       "      <td>1</td>\n",
       "      <td>46</td>\n",
       "    </tr>\n",
       "    <tr>\n",
       "      <th>4</th>\n",
       "      <td>1</td>\n",
       "      <td>0</td>\n",
       "      <td>14</td>\n",
       "      <td>2015</td>\n",
       "      <td>5</td>\n",
       "      <td>27</td>\n",
       "      <td>1</td>\n",
       "      <td>0</td>\n",
       "      <td>2</td>\n",
       "      <td>2</td>\n",
       "      <td>...</td>\n",
       "      <td>0</td>\n",
       "      <td>240.0</td>\n",
       "      <td>0.0</td>\n",
       "      <td>0</td>\n",
       "      <td>2</td>\n",
       "      <td>98.0</td>\n",
       "      <td>0</td>\n",
       "      <td>1</td>\n",
       "      <td>1</td>\n",
       "      <td>76</td>\n",
       "    </tr>\n",
       "  </tbody>\n",
       "</table>\n",
       "<p>5 rows × 32 columns</p>\n",
       "</div>"
      ],
      "text/plain": [
       "   hotel  is_canceled  lead_time  arrival_date_year  arrival_date_month  \\\n",
       "0      1            0        342               2015                   5   \n",
       "1      1            0        737               2015                   5   \n",
       "2      1            0          7               2015                   5   \n",
       "3      1            0         13               2015                   5   \n",
       "4      1            0         14               2015                   5   \n",
       "\n",
       "   arrival_date_week_number  arrival_date_day_of_month  \\\n",
       "0                        27                          1   \n",
       "1                        27                          1   \n",
       "2                        27                          1   \n",
       "3                        27                          1   \n",
       "4                        27                          1   \n",
       "\n",
       "   stays_in_weekend_nights  stays_in_week_nights  adults  ...  deposit_type  \\\n",
       "0                        0                     0       2  ...             0   \n",
       "1                        0                     0       2  ...             0   \n",
       "2                        0                     1       1  ...             0   \n",
       "3                        0                     1       1  ...             0   \n",
       "4                        0                     2       2  ...             0   \n",
       "\n",
       "   agent  company  days_in_waiting_list  customer_type   adr  \\\n",
       "0    0.0      0.0                     0              2   0.0   \n",
       "1    0.0      0.0                     0              2   0.0   \n",
       "2    0.0      0.0                     0              2  75.0   \n",
       "3  304.0      0.0                     0              2  75.0   \n",
       "4  240.0      0.0                     0              2  98.0   \n",
       "\n",
       "   required_car_parking_spaces  total_of_special_requests  reservation_status  \\\n",
       "0                            0                          0                   1   \n",
       "1                            0                          0                   1   \n",
       "2                            0                          0                   1   \n",
       "3                            0                          0                   1   \n",
       "4                            0                          1                   1   \n",
       "\n",
       "   reservation_status_date  \n",
       "0                       15  \n",
       "1                       15  \n",
       "2                       46  \n",
       "3                       46  \n",
       "4                       76  \n",
       "\n",
       "[5 rows x 32 columns]"
      ]
     },
     "execution_count": 24,
     "metadata": {},
     "output_type": "execute_result"
    }
   ],
   "source": [
    "full_data_clean.head()"
   ]
  },
  {
   "cell_type": "code",
   "execution_count": 25,
   "metadata": {},
   "outputs": [
    {
     "data": {
      "text/plain": [
       "hotel                             0\n",
       "is_canceled                       0\n",
       "lead_time                         0\n",
       "arrival_date_year                 0\n",
       "arrival_date_month                0\n",
       "arrival_date_week_number          0\n",
       "arrival_date_day_of_month         0\n",
       "stays_in_weekend_nights           0\n",
       "stays_in_week_nights              0\n",
       "adults                            0\n",
       "children                          0\n",
       "babies                            0\n",
       "meal                              0\n",
       "country                           0\n",
       "market_segment                    0\n",
       "distribution_channel              0\n",
       "is_repeated_guest                 0\n",
       "previous_cancellations            0\n",
       "previous_bookings_not_canceled    0\n",
       "reserved_room_type                0\n",
       "assigned_room_type                0\n",
       "booking_changes                   0\n",
       "deposit_type                      0\n",
       "agent                             0\n",
       "company                           0\n",
       "days_in_waiting_list              0\n",
       "customer_type                     0\n",
       "adr                               0\n",
       "required_car_parking_spaces       0\n",
       "total_of_special_requests         0\n",
       "reservation_status                0\n",
       "reservation_status_date           0\n",
       "dtype: int64"
      ]
     },
     "execution_count": 25,
     "metadata": {},
     "output_type": "execute_result"
    }
   ],
   "source": [
    "full_data_clean.isna().sum()"
   ]
  },
  {
   "cell_type": "markdown",
   "metadata": {},
   "source": [
    "### As data is cleaned and transform to numerical lets export the csv file"
   ]
  },
  {
   "cell_type": "code",
   "execution_count": 26,
   "metadata": {},
   "outputs": [],
   "source": [
    "full_data_clean.to_excel(r'clean_data.xlsx',index=False)"
   ]
  },
  {
   "cell_type": "code",
   "execution_count": 27,
   "metadata": {},
   "outputs": [],
   "source": [
    "data = pd.read_excel('clean_data.xlsx')"
   ]
  },
  {
   "cell_type": "code",
   "execution_count": 28,
   "metadata": {},
   "outputs": [
    {
     "data": {
      "text/html": [
       "<div>\n",
       "<style scoped>\n",
       "    .dataframe tbody tr th:only-of-type {\n",
       "        vertical-align: middle;\n",
       "    }\n",
       "\n",
       "    .dataframe tbody tr th {\n",
       "        vertical-align: top;\n",
       "    }\n",
       "\n",
       "    .dataframe thead th {\n",
       "        text-align: right;\n",
       "    }\n",
       "</style>\n",
       "<table border=\"1\" class=\"dataframe\">\n",
       "  <thead>\n",
       "    <tr style=\"text-align: right;\">\n",
       "      <th></th>\n",
       "      <th>hotel</th>\n",
       "      <th>is_canceled</th>\n",
       "      <th>lead_time</th>\n",
       "      <th>arrival_date_year</th>\n",
       "      <th>arrival_date_month</th>\n",
       "      <th>arrival_date_week_number</th>\n",
       "      <th>arrival_date_day_of_month</th>\n",
       "      <th>stays_in_weekend_nights</th>\n",
       "      <th>stays_in_week_nights</th>\n",
       "      <th>adults</th>\n",
       "      <th>...</th>\n",
       "      <th>deposit_type</th>\n",
       "      <th>agent</th>\n",
       "      <th>company</th>\n",
       "      <th>days_in_waiting_list</th>\n",
       "      <th>customer_type</th>\n",
       "      <th>adr</th>\n",
       "      <th>required_car_parking_spaces</th>\n",
       "      <th>total_of_special_requests</th>\n",
       "      <th>reservation_status</th>\n",
       "      <th>reservation_status_date</th>\n",
       "    </tr>\n",
       "  </thead>\n",
       "  <tbody>\n",
       "    <tr>\n",
       "      <th>0</th>\n",
       "      <td>1</td>\n",
       "      <td>0</td>\n",
       "      <td>342</td>\n",
       "      <td>2015</td>\n",
       "      <td>5</td>\n",
       "      <td>27</td>\n",
       "      <td>1</td>\n",
       "      <td>0</td>\n",
       "      <td>0</td>\n",
       "      <td>2</td>\n",
       "      <td>...</td>\n",
       "      <td>0</td>\n",
       "      <td>0</td>\n",
       "      <td>0</td>\n",
       "      <td>0</td>\n",
       "      <td>2</td>\n",
       "      <td>0.0</td>\n",
       "      <td>0</td>\n",
       "      <td>0</td>\n",
       "      <td>1</td>\n",
       "      <td>15</td>\n",
       "    </tr>\n",
       "    <tr>\n",
       "      <th>1</th>\n",
       "      <td>1</td>\n",
       "      <td>0</td>\n",
       "      <td>737</td>\n",
       "      <td>2015</td>\n",
       "      <td>5</td>\n",
       "      <td>27</td>\n",
       "      <td>1</td>\n",
       "      <td>0</td>\n",
       "      <td>0</td>\n",
       "      <td>2</td>\n",
       "      <td>...</td>\n",
       "      <td>0</td>\n",
       "      <td>0</td>\n",
       "      <td>0</td>\n",
       "      <td>0</td>\n",
       "      <td>2</td>\n",
       "      <td>0.0</td>\n",
       "      <td>0</td>\n",
       "      <td>0</td>\n",
       "      <td>1</td>\n",
       "      <td>15</td>\n",
       "    </tr>\n",
       "    <tr>\n",
       "      <th>2</th>\n",
       "      <td>1</td>\n",
       "      <td>0</td>\n",
       "      <td>7</td>\n",
       "      <td>2015</td>\n",
       "      <td>5</td>\n",
       "      <td>27</td>\n",
       "      <td>1</td>\n",
       "      <td>0</td>\n",
       "      <td>1</td>\n",
       "      <td>1</td>\n",
       "      <td>...</td>\n",
       "      <td>0</td>\n",
       "      <td>0</td>\n",
       "      <td>0</td>\n",
       "      <td>0</td>\n",
       "      <td>2</td>\n",
       "      <td>75.0</td>\n",
       "      <td>0</td>\n",
       "      <td>0</td>\n",
       "      <td>1</td>\n",
       "      <td>46</td>\n",
       "    </tr>\n",
       "    <tr>\n",
       "      <th>3</th>\n",
       "      <td>1</td>\n",
       "      <td>0</td>\n",
       "      <td>13</td>\n",
       "      <td>2015</td>\n",
       "      <td>5</td>\n",
       "      <td>27</td>\n",
       "      <td>1</td>\n",
       "      <td>0</td>\n",
       "      <td>1</td>\n",
       "      <td>1</td>\n",
       "      <td>...</td>\n",
       "      <td>0</td>\n",
       "      <td>304</td>\n",
       "      <td>0</td>\n",
       "      <td>0</td>\n",
       "      <td>2</td>\n",
       "      <td>75.0</td>\n",
       "      <td>0</td>\n",
       "      <td>0</td>\n",
       "      <td>1</td>\n",
       "      <td>46</td>\n",
       "    </tr>\n",
       "    <tr>\n",
       "      <th>4</th>\n",
       "      <td>1</td>\n",
       "      <td>0</td>\n",
       "      <td>14</td>\n",
       "      <td>2015</td>\n",
       "      <td>5</td>\n",
       "      <td>27</td>\n",
       "      <td>1</td>\n",
       "      <td>0</td>\n",
       "      <td>2</td>\n",
       "      <td>2</td>\n",
       "      <td>...</td>\n",
       "      <td>0</td>\n",
       "      <td>240</td>\n",
       "      <td>0</td>\n",
       "      <td>0</td>\n",
       "      <td>2</td>\n",
       "      <td>98.0</td>\n",
       "      <td>0</td>\n",
       "      <td>1</td>\n",
       "      <td>1</td>\n",
       "      <td>76</td>\n",
       "    </tr>\n",
       "  </tbody>\n",
       "</table>\n",
       "<p>5 rows × 32 columns</p>\n",
       "</div>"
      ],
      "text/plain": [
       "   hotel  is_canceled  lead_time  arrival_date_year  arrival_date_month  \\\n",
       "0      1            0        342               2015                   5   \n",
       "1      1            0        737               2015                   5   \n",
       "2      1            0          7               2015                   5   \n",
       "3      1            0         13               2015                   5   \n",
       "4      1            0         14               2015                   5   \n",
       "\n",
       "   arrival_date_week_number  arrival_date_day_of_month  \\\n",
       "0                        27                          1   \n",
       "1                        27                          1   \n",
       "2                        27                          1   \n",
       "3                        27                          1   \n",
       "4                        27                          1   \n",
       "\n",
       "   stays_in_weekend_nights  stays_in_week_nights  adults  ...  deposit_type  \\\n",
       "0                        0                     0       2  ...             0   \n",
       "1                        0                     0       2  ...             0   \n",
       "2                        0                     1       1  ...             0   \n",
       "3                        0                     1       1  ...             0   \n",
       "4                        0                     2       2  ...             0   \n",
       "\n",
       "   agent  company  days_in_waiting_list  customer_type   adr  \\\n",
       "0      0        0                     0              2   0.0   \n",
       "1      0        0                     0              2   0.0   \n",
       "2      0        0                     0              2  75.0   \n",
       "3    304        0                     0              2  75.0   \n",
       "4    240        0                     0              2  98.0   \n",
       "\n",
       "   required_car_parking_spaces  total_of_special_requests  reservation_status  \\\n",
       "0                            0                          0                   1   \n",
       "1                            0                          0                   1   \n",
       "2                            0                          0                   1   \n",
       "3                            0                          0                   1   \n",
       "4                            0                          1                   1   \n",
       "\n",
       "   reservation_status_date  \n",
       "0                       15  \n",
       "1                       15  \n",
       "2                       46  \n",
       "3                       46  \n",
       "4                       76  \n",
       "\n",
       "[5 rows x 32 columns]"
      ]
     },
     "execution_count": 28,
     "metadata": {},
     "output_type": "execute_result"
    }
   ],
   "source": [
    "data.head()"
   ]
  },
  {
   "cell_type": "code",
   "execution_count": 29,
   "metadata": {},
   "outputs": [
    {
     "name": "stdout",
     "output_type": "stream",
     "text": [
      "<class 'pandas.core.frame.DataFrame'>\n",
      "RangeIndex: 119390 entries, 0 to 119389\n",
      "Data columns (total 32 columns):\n",
      " #   Column                          Non-Null Count   Dtype  \n",
      "---  ------                          --------------   -----  \n",
      " 0   hotel                           119390 non-null  int64  \n",
      " 1   is_canceled                     119390 non-null  int64  \n",
      " 2   lead_time                       119390 non-null  int64  \n",
      " 3   arrival_date_year               119390 non-null  int64  \n",
      " 4   arrival_date_month              119390 non-null  int64  \n",
      " 5   arrival_date_week_number        119390 non-null  int64  \n",
      " 6   arrival_date_day_of_month       119390 non-null  int64  \n",
      " 7   stays_in_weekend_nights         119390 non-null  int64  \n",
      " 8   stays_in_week_nights            119390 non-null  int64  \n",
      " 9   adults                          119390 non-null  int64  \n",
      " 10  children                        119390 non-null  int64  \n",
      " 11  babies                          119390 non-null  int64  \n",
      " 12  meal                            119390 non-null  int64  \n",
      " 13  country                         119390 non-null  int64  \n",
      " 14  market_segment                  119390 non-null  int64  \n",
      " 15  distribution_channel            119390 non-null  int64  \n",
      " 16  is_repeated_guest               119390 non-null  int64  \n",
      " 17  previous_cancellations          119390 non-null  int64  \n",
      " 18  previous_bookings_not_canceled  119390 non-null  int64  \n",
      " 19  reserved_room_type              119390 non-null  int64  \n",
      " 20  assigned_room_type              119390 non-null  int64  \n",
      " 21  booking_changes                 119390 non-null  int64  \n",
      " 22  deposit_type                    119390 non-null  int64  \n",
      " 23  agent                           119390 non-null  int64  \n",
      " 24  company                         119390 non-null  int64  \n",
      " 25  days_in_waiting_list            119390 non-null  int64  \n",
      " 26  customer_type                   119390 non-null  int64  \n",
      " 27  adr                             119390 non-null  float64\n",
      " 28  required_car_parking_spaces     119390 non-null  int64  \n",
      " 29  total_of_special_requests       119390 non-null  int64  \n",
      " 30  reservation_status              119390 non-null  int64  \n",
      " 31  reservation_status_date         119390 non-null  int64  \n",
      "dtypes: float64(1), int64(31)\n",
      "memory usage: 29.1 MB\n"
     ]
    }
   ],
   "source": [
    "data.info()"
   ]
  },
  {
   "cell_type": "code",
   "execution_count": 30,
   "metadata": {},
   "outputs": [
    {
     "name": "stdout",
     "output_type": "stream",
     "text": [
      "Two-dimensional, size-mutable, potentially heterogeneous tabular data.\n",
      "\n",
      "Data structure also contains labeled axes (rows and columns).\n",
      "Arithmetic operations align on both row and column labels. Can be\n",
      "thought of as a dict-like container for Series objects. The primary\n",
      "pandas data structure.\n",
      "\n",
      "Parameters\n",
      "----------\n",
      "data : ndarray (structured or homogeneous), Iterable, dict, or DataFrame\n",
      "    Dict can contain Series, arrays, constants, dataclass or list-like objects. If\n",
      "    data is a dict, column order follows insertion-order. If a dict contains Series\n",
      "    which have an index defined, it is aligned by its index.\n",
      "\n",
      "    .. versionchanged:: 0.25.0\n",
      "       If data is a list of dicts, column order follows insertion-order.\n",
      "\n",
      "index : Index or array-like\n",
      "    Index to use for resulting frame. Will default to RangeIndex if\n",
      "    no indexing information part of input data and no index provided.\n",
      "columns : Index or array-like\n",
      "    Column labels to use for resulting frame when data does not have them,\n",
      "    defaulting to RangeIndex(0, 1, 2, ..., n). If data contains column labels,\n",
      "    will perform column selection instead.\n",
      "dtype : dtype, default None\n",
      "    Data type to force. Only a single dtype is allowed. If None, infer.\n",
      "copy : bool or None, default None\n",
      "    Copy data from inputs.\n",
      "    For dict data, the default of None behaves like ``copy=True``.  For DataFrame\n",
      "    or 2d ndarray input, the default of None behaves like ``copy=False``.\n",
      "\n",
      "    .. versionchanged:: 1.3.0\n",
      "\n",
      "See Also\n",
      "--------\n",
      "DataFrame.from_records : Constructor from tuples, also record arrays.\n",
      "DataFrame.from_dict : From dicts of Series, arrays, or dicts.\n",
      "read_csv : Read a comma-separated values (csv) file into DataFrame.\n",
      "read_table : Read general delimited file into DataFrame.\n",
      "read_clipboard : Read text from clipboard into DataFrame.\n",
      "\n",
      "Examples\n",
      "--------\n",
      "Constructing DataFrame from a dictionary.\n",
      "\n",
      ">>> d = {'col1': [1, 2], 'col2': [3, 4]}\n",
      ">>> df = pd.DataFrame(data=d)\n",
      ">>> df\n",
      "   col1  col2\n",
      "0     1     3\n",
      "1     2     4\n",
      "\n",
      "Notice that the inferred dtype is int64.\n",
      "\n",
      ">>> df.dtypes\n",
      "col1    int64\n",
      "col2    int64\n",
      "dtype: object\n",
      "\n",
      "To enforce a single dtype:\n",
      "\n",
      ">>> df = pd.DataFrame(data=d, dtype=np.int8)\n",
      ">>> df.dtypes\n",
      "col1    int8\n",
      "col2    int8\n",
      "dtype: object\n",
      "\n",
      "Constructing DataFrame from a dictionary including Series:\n",
      "\n",
      ">>> d = {'col1': [0, 1, 2, 3], 'col2': pd.Series([2, 3], index=[2, 3])}\n",
      ">>> pd.DataFrame(data=d, index=[0, 1, 2, 3])\n",
      "   col1  col2\n",
      "0     0   NaN\n",
      "1     1   NaN\n",
      "2     2   2.0\n",
      "3     3   3.0\n",
      "\n",
      "Constructing DataFrame from numpy ndarray:\n",
      "\n",
      ">>> df2 = pd.DataFrame(np.array([[1, 2, 3], [4, 5, 6], [7, 8, 9]]),\n",
      "...                    columns=['a', 'b', 'c'])\n",
      ">>> df2\n",
      "   a  b  c\n",
      "0  1  2  3\n",
      "1  4  5  6\n",
      "2  7  8  9\n",
      "\n",
      "Constructing DataFrame from a numpy ndarray that has labeled columns:\n",
      "\n",
      ">>> data = np.array([(1, 2, 3), (4, 5, 6), (7, 8, 9)],\n",
      "...                 dtype=[(\"a\", \"i4\"), (\"b\", \"i4\"), (\"c\", \"i4\")])\n",
      ">>> df3 = pd.DataFrame(data, columns=['c', 'a'])\n",
      "...\n",
      ">>> df3\n",
      "   c  a\n",
      "0  3  1\n",
      "1  6  4\n",
      "2  9  7\n",
      "\n",
      "Constructing DataFrame from dataclass:\n",
      "\n",
      ">>> from dataclasses import make_dataclass\n",
      ">>> Point = make_dataclass(\"Point\", [(\"x\", int), (\"y\", int)])\n",
      ">>> pd.DataFrame([Point(0, 0), Point(0, 3), Point(2, 3)])\n",
      "   x  y\n",
      "0  0  0\n",
      "1  0  3\n",
      "2  2  3\n"
     ]
    }
   ],
   "source": [
    "X = data.drop('is_canceled',axis=1)\n",
    "\n",
    "X[:10]\n",
    "np.info(X)"
   ]
  },
  {
   "cell_type": "code",
   "execution_count": 31,
   "metadata": {},
   "outputs": [
    {
     "data": {
      "text/plain": [
       "0    0\n",
       "1    0\n",
       "2    0\n",
       "3    0\n",
       "4    0\n",
       "5    0\n",
       "6    0\n",
       "7    0\n",
       "8    1\n",
       "9    1\n",
       "Name: is_canceled, dtype: int64"
      ]
     },
     "execution_count": 31,
     "metadata": {},
     "output_type": "execute_result"
    }
   ],
   "source": [
    "y = data['is_canceled']\n",
    "y[:10]"
   ]
  },
  {
   "cell_type": "code",
   "execution_count": 32,
   "metadata": {},
   "outputs": [],
   "source": [
    "x_train,x_test,y_train,y_test=train_test_split(X,y,test_size=0.7,random_state=42)\n"
   ]
  },
  {
   "cell_type": "code",
   "execution_count": 33,
   "metadata": {},
   "outputs": [
    {
     "name": "stdout",
     "output_type": "stream",
     "text": [
      "        hotel  lead_time  arrival_date_year  arrival_date_month  \\\n",
      "81059       0         85               2016                   4   \n",
      "95780       0        125               2016                   1   \n",
      "106249      0         25               2017                   3   \n",
      "32165       1         40               2017                   4   \n",
      "26615       1         12               2016                   1   \n",
      "...       ...        ...                ...                 ...   \n",
      "76820       0          2               2016                   5   \n",
      "110268      0         91               2017                   0   \n",
      "103694      0         74               2016                   2   \n",
      "860         1        130               2015                   1   \n",
      "15795       1         16               2015                   5   \n",
      "\n",
      "        arrival_date_week_number  arrival_date_day_of_month  \\\n",
      "81059                          4                         22   \n",
      "95780                         34                         20   \n",
      "106249                         8                         19   \n",
      "32165                          3                         16   \n",
      "26615                         32                          2   \n",
      "...                          ...                        ...   \n",
      "76820                         28                          8   \n",
      "110268                        16                         20   \n",
      "103694                        53                         27   \n",
      "860                           31                          1   \n",
      "15795                         31                         31   \n",
      "\n",
      "        stays_in_weekend_nights  stays_in_week_nights  adults  children  ...  \\\n",
      "81059                         0                     1       2         0  ...   \n",
      "95780                         2                     2       2         0  ...   \n",
      "106249                        2                     3       2         0  ...   \n",
      "32165                         1                     2       1         0  ...   \n",
      "26615                         0                     4       2         0  ...   \n",
      "...                         ...                   ...     ...       ...  ...   \n",
      "76820                         0                     1       2         0  ...   \n",
      "110268                        2                     3       2         0  ...   \n",
      "103694                        0                     3       3         0  ...   \n",
      "860                           2                     5       2         0  ...   \n",
      "15795                         0                     2       1         0  ...   \n",
      "\n",
      "        deposit_type  agent  company  days_in_waiting_list  customer_type  \\\n",
      "81059              1     29        0                     0              2   \n",
      "95780              0      9        0                     0              2   \n",
      "106249             0      7        0                     0              2   \n",
      "32165              0      0        0                     0              3   \n",
      "26615              0    240        0                     0              2   \n",
      "...              ...    ...      ...                   ...            ...   \n",
      "76820              0      0       40                     0              2   \n",
      "110268             0      9        0                     0              2   \n",
      "103694             0     22        0                     0              2   \n",
      "860                0    240        0                     0              2   \n",
      "15795              0      0        0                     0              3   \n",
      "\n",
      "           adr  required_car_parking_spaces  total_of_special_requests  \\\n",
      "81059    85.00                            0                          0   \n",
      "95780   105.30                            0                          2   \n",
      "106249   63.17                            0                          0   \n",
      "32165    55.00                            0                          0   \n",
      "26615   221.00                            0                          1   \n",
      "...        ...                          ...                        ...   \n",
      "76820    77.00                            1                          0   \n",
      "110268  135.00                            0                          0   \n",
      "103694   92.65                            0                          0   \n",
      "860     120.60                            0                          2   \n",
      "15795   120.00                            0                          1   \n",
      "\n",
      "        reservation_status  reservation_status_date  \n",
      "81059                    0                       59  \n",
      "95780                    1                      720  \n",
      "106249                   1                      704  \n",
      "32165                    1                      551  \n",
      "26615                    1                      175  \n",
      "...                    ...                      ...  \n",
      "76820                    1                      262  \n",
      "110268                   1                      740  \n",
      "103694                   1                      908  \n",
      "860                      0                      559  \n",
      "15795                    1                       49  \n",
      "\n",
      "[35817 rows x 31 columns] 81059     1\n",
      "95780     0\n",
      "106249    0\n",
      "32165     0\n",
      "26615     0\n",
      "         ..\n",
      "76820     0\n",
      "110268    0\n",
      "103694    0\n",
      "860       1\n",
      "15795     0\n",
      "Name: is_canceled, Length: 35817, dtype: int64\n",
      "        hotel  lead_time  arrival_date_year  arrival_date_month  \\\n",
      "81059       0         85               2016                   4   \n",
      "95780       0        125               2016                   1   \n",
      "106249      0         25               2017                   3   \n",
      "32165       1         40               2017                   4   \n",
      "26615       1         12               2016                   1   \n",
      "...       ...        ...                ...                 ...   \n",
      "76820       0          2               2016                   5   \n",
      "110268      0         91               2017                   0   \n",
      "103694      0         74               2016                   2   \n",
      "860         1        130               2015                   1   \n",
      "15795       1         16               2015                   5   \n",
      "\n",
      "        arrival_date_week_number  arrival_date_day_of_month  \\\n",
      "81059                          4                         22   \n",
      "95780                         34                         20   \n",
      "106249                         8                         19   \n",
      "32165                          3                         16   \n",
      "26615                         32                          2   \n",
      "...                          ...                        ...   \n",
      "76820                         28                          8   \n",
      "110268                        16                         20   \n",
      "103694                        53                         27   \n",
      "860                           31                          1   \n",
      "15795                         31                         31   \n",
      "\n",
      "        stays_in_weekend_nights  stays_in_week_nights  adults  children  ...  \\\n",
      "81059                         0                     1       2         0  ...   \n",
      "95780                         2                     2       2         0  ...   \n",
      "106249                        2                     3       2         0  ...   \n",
      "32165                         1                     2       1         0  ...   \n",
      "26615                         0                     4       2         0  ...   \n",
      "...                         ...                   ...     ...       ...  ...   \n",
      "76820                         0                     1       2         0  ...   \n",
      "110268                        2                     3       2         0  ...   \n",
      "103694                        0                     3       3         0  ...   \n",
      "860                           2                     5       2         0  ...   \n",
      "15795                         0                     2       1         0  ...   \n",
      "\n",
      "        deposit_type  agent  company  days_in_waiting_list  customer_type  \\\n",
      "81059              1     29        0                     0              2   \n",
      "95780              0      9        0                     0              2   \n",
      "106249             0      7        0                     0              2   \n",
      "32165              0      0        0                     0              3   \n",
      "26615              0    240        0                     0              2   \n",
      "...              ...    ...      ...                   ...            ...   \n",
      "76820              0      0       40                     0              2   \n",
      "110268             0      9        0                     0              2   \n",
      "103694             0     22        0                     0              2   \n",
      "860                0    240        0                     0              2   \n",
      "15795              0      0        0                     0              3   \n",
      "\n",
      "           adr  required_car_parking_spaces  total_of_special_requests  \\\n",
      "81059    85.00                            0                          0   \n",
      "95780   105.30                            0                          2   \n",
      "106249   63.17                            0                          0   \n",
      "32165    55.00                            0                          0   \n",
      "26615   221.00                            0                          1   \n",
      "...        ...                          ...                        ...   \n",
      "76820    77.00                            1                          0   \n",
      "110268  135.00                            0                          0   \n",
      "103694   92.65                            0                          0   \n",
      "860     120.60                            0                          2   \n",
      "15795   120.00                            0                          1   \n",
      "\n",
      "        reservation_status  reservation_status_date  \n",
      "81059                    0                       59  \n",
      "95780                    1                      720  \n",
      "106249                   1                      704  \n",
      "32165                    1                      551  \n",
      "26615                    1                      175  \n",
      "...                    ...                      ...  \n",
      "76820                    1                      262  \n",
      "110268                   1                      740  \n",
      "103694                   1                      908  \n",
      "860                      0                      559  \n",
      "15795                    1                       49  \n",
      "\n",
      "[35817 rows x 31 columns] 81059     1\n",
      "95780     0\n",
      "106249    0\n",
      "32165     0\n",
      "26615     0\n",
      "         ..\n",
      "76820     0\n",
      "110268    0\n",
      "103694    0\n",
      "860       1\n",
      "15795     0\n",
      "Name: is_canceled, Length: 35817, dtype: int64\n",
      "        hotel  lead_time  arrival_date_year  arrival_date_month  \\\n",
      "81059       0         85               2016                   4   \n",
      "95780       0        125               2016                   1   \n",
      "106249      0         25               2017                   3   \n",
      "32165       1         40               2017                   4   \n",
      "26615       1         12               2016                   1   \n",
      "...       ...        ...                ...                 ...   \n",
      "76820       0          2               2016                   5   \n",
      "110268      0         91               2017                   0   \n",
      "103694      0         74               2016                   2   \n",
      "860         1        130               2015                   1   \n",
      "15795       1         16               2015                   5   \n",
      "\n",
      "        arrival_date_week_number  arrival_date_day_of_month  \\\n",
      "81059                          4                         22   \n",
      "95780                         34                         20   \n",
      "106249                         8                         19   \n",
      "32165                          3                         16   \n",
      "26615                         32                          2   \n",
      "...                          ...                        ...   \n",
      "76820                         28                          8   \n",
      "110268                        16                         20   \n",
      "103694                        53                         27   \n",
      "860                           31                          1   \n",
      "15795                         31                         31   \n",
      "\n",
      "        stays_in_weekend_nights  stays_in_week_nights  adults  children  ...  \\\n",
      "81059                         0                     1       2         0  ...   \n",
      "95780                         2                     2       2         0  ...   \n",
      "106249                        2                     3       2         0  ...   \n",
      "32165                         1                     2       1         0  ...   \n",
      "26615                         0                     4       2         0  ...   \n",
      "...                         ...                   ...     ...       ...  ...   \n",
      "76820                         0                     1       2         0  ...   \n",
      "110268                        2                     3       2         0  ...   \n",
      "103694                        0                     3       3         0  ...   \n",
      "860                           2                     5       2         0  ...   \n",
      "15795                         0                     2       1         0  ...   \n",
      "\n",
      "        deposit_type  agent  company  days_in_waiting_list  customer_type  \\\n",
      "81059              1     29        0                     0              2   \n",
      "95780              0      9        0                     0              2   \n",
      "106249             0      7        0                     0              2   \n",
      "32165              0      0        0                     0              3   \n",
      "26615              0    240        0                     0              2   \n",
      "...              ...    ...      ...                   ...            ...   \n",
      "76820              0      0       40                     0              2   \n",
      "110268             0      9        0                     0              2   \n",
      "103694             0     22        0                     0              2   \n",
      "860                0    240        0                     0              2   \n",
      "15795              0      0        0                     0              3   \n",
      "\n",
      "           adr  required_car_parking_spaces  total_of_special_requests  \\\n",
      "81059    85.00                            0                          0   \n",
      "95780   105.30                            0                          2   \n",
      "106249   63.17                            0                          0   \n",
      "32165    55.00                            0                          0   \n",
      "26615   221.00                            0                          1   \n",
      "...        ...                          ...                        ...   \n",
      "76820    77.00                            1                          0   \n",
      "110268  135.00                            0                          0   \n",
      "103694   92.65                            0                          0   \n",
      "860     120.60                            0                          2   \n",
      "15795   120.00                            0                          1   \n",
      "\n",
      "        reservation_status  reservation_status_date  \n",
      "81059                    0                       59  \n",
      "95780                    1                      720  \n",
      "106249                   1                      704  \n",
      "32165                    1                      551  \n",
      "26615                    1                      175  \n",
      "...                    ...                      ...  \n",
      "76820                    1                      262  \n",
      "110268                   1                      740  \n",
      "103694                   1                      908  \n",
      "860                      0                      559  \n",
      "15795                    1                       49  \n",
      "\n",
      "[35817 rows x 31 columns] 81059     1\n",
      "95780     0\n",
      "106249    0\n",
      "32165     0\n",
      "26615     0\n",
      "         ..\n",
      "76820     0\n",
      "110268    0\n",
      "103694    0\n",
      "860       1\n",
      "15795     0\n",
      "Name: is_canceled, Length: 35817, dtype: int64\n",
      "        hotel  lead_time  arrival_date_year  arrival_date_month  \\\n",
      "81059       0         85               2016                   4   \n",
      "95780       0        125               2016                   1   \n",
      "106249      0         25               2017                   3   \n",
      "32165       1         40               2017                   4   \n",
      "26615       1         12               2016                   1   \n",
      "...       ...        ...                ...                 ...   \n",
      "76820       0          2               2016                   5   \n",
      "110268      0         91               2017                   0   \n",
      "103694      0         74               2016                   2   \n",
      "860         1        130               2015                   1   \n",
      "15795       1         16               2015                   5   \n",
      "\n",
      "        arrival_date_week_number  arrival_date_day_of_month  \\\n",
      "81059                          4                         22   \n",
      "95780                         34                         20   \n",
      "106249                         8                         19   \n",
      "32165                          3                         16   \n",
      "26615                         32                          2   \n",
      "...                          ...                        ...   \n",
      "76820                         28                          8   \n",
      "110268                        16                         20   \n",
      "103694                        53                         27   \n",
      "860                           31                          1   \n",
      "15795                         31                         31   \n",
      "\n",
      "        stays_in_weekend_nights  stays_in_week_nights  adults  children  ...  \\\n",
      "81059                         0                     1       2         0  ...   \n",
      "95780                         2                     2       2         0  ...   \n",
      "106249                        2                     3       2         0  ...   \n",
      "32165                         1                     2       1         0  ...   \n",
      "26615                         0                     4       2         0  ...   \n",
      "...                         ...                   ...     ...       ...  ...   \n",
      "76820                         0                     1       2         0  ...   \n",
      "110268                        2                     3       2         0  ...   \n",
      "103694                        0                     3       3         0  ...   \n",
      "860                           2                     5       2         0  ...   \n",
      "15795                         0                     2       1         0  ...   \n",
      "\n",
      "        deposit_type  agent  company  days_in_waiting_list  customer_type  \\\n",
      "81059              1     29        0                     0              2   \n",
      "95780              0      9        0                     0              2   \n",
      "106249             0      7        0                     0              2   \n",
      "32165              0      0        0                     0              3   \n",
      "26615              0    240        0                     0              2   \n",
      "...              ...    ...      ...                   ...            ...   \n",
      "76820              0      0       40                     0              2   \n",
      "110268             0      9        0                     0              2   \n",
      "103694             0     22        0                     0              2   \n",
      "860                0    240        0                     0              2   \n",
      "15795              0      0        0                     0              3   \n",
      "\n",
      "           adr  required_car_parking_spaces  total_of_special_requests  \\\n",
      "81059    85.00                            0                          0   \n",
      "95780   105.30                            0                          2   \n",
      "106249   63.17                            0                          0   \n",
      "32165    55.00                            0                          0   \n",
      "26615   221.00                            0                          1   \n",
      "...        ...                          ...                        ...   \n",
      "76820    77.00                            1                          0   \n",
      "110268  135.00                            0                          0   \n",
      "103694   92.65                            0                          0   \n",
      "860     120.60                            0                          2   \n",
      "15795   120.00                            0                          1   \n",
      "\n",
      "        reservation_status  reservation_status_date  \n",
      "81059                    0                       59  \n",
      "95780                    1                      720  \n",
      "106249                   1                      704  \n",
      "32165                    1                      551  \n",
      "26615                    1                      175  \n",
      "...                    ...                      ...  \n",
      "76820                    1                      262  \n",
      "110268                   1                      740  \n",
      "103694                   1                      908  \n",
      "860                      0                      559  \n",
      "15795                    1                       49  \n",
      "\n",
      "[35817 rows x 31 columns] 81059     1\n",
      "95780     0\n",
      "106249    0\n",
      "32165     0\n",
      "26615     0\n",
      "         ..\n",
      "76820     0\n",
      "110268    0\n",
      "103694    0\n",
      "860       1\n",
      "15795     0\n",
      "Name: is_canceled, Length: 35817, dtype: int64\n",
      "        hotel  lead_time  arrival_date_year  arrival_date_month  \\\n",
      "81059       0         85               2016                   4   \n",
      "95780       0        125               2016                   1   \n",
      "106249      0         25               2017                   3   \n",
      "32165       1         40               2017                   4   \n",
      "26615       1         12               2016                   1   \n",
      "...       ...        ...                ...                 ...   \n",
      "76820       0          2               2016                   5   \n",
      "110268      0         91               2017                   0   \n",
      "103694      0         74               2016                   2   \n",
      "860         1        130               2015                   1   \n",
      "15795       1         16               2015                   5   \n",
      "\n",
      "        arrival_date_week_number  arrival_date_day_of_month  \\\n",
      "81059                          4                         22   \n",
      "95780                         34                         20   \n",
      "106249                         8                         19   \n",
      "32165                          3                         16   \n",
      "26615                         32                          2   \n",
      "...                          ...                        ...   \n",
      "76820                         28                          8   \n",
      "110268                        16                         20   \n",
      "103694                        53                         27   \n",
      "860                           31                          1   \n",
      "15795                         31                         31   \n",
      "\n",
      "        stays_in_weekend_nights  stays_in_week_nights  adults  children  ...  \\\n",
      "81059                         0                     1       2         0  ...   \n",
      "95780                         2                     2       2         0  ...   \n",
      "106249                        2                     3       2         0  ...   \n",
      "32165                         1                     2       1         0  ...   \n",
      "26615                         0                     4       2         0  ...   \n",
      "...                         ...                   ...     ...       ...  ...   \n",
      "76820                         0                     1       2         0  ...   \n",
      "110268                        2                     3       2         0  ...   \n",
      "103694                        0                     3       3         0  ...   \n",
      "860                           2                     5       2         0  ...   \n",
      "15795                         0                     2       1         0  ...   \n",
      "\n",
      "        deposit_type  agent  company  days_in_waiting_list  customer_type  \\\n",
      "81059              1     29        0                     0              2   \n",
      "95780              0      9        0                     0              2   \n",
      "106249             0      7        0                     0              2   \n",
      "32165              0      0        0                     0              3   \n",
      "26615              0    240        0                     0              2   \n",
      "...              ...    ...      ...                   ...            ...   \n",
      "76820              0      0       40                     0              2   \n",
      "110268             0      9        0                     0              2   \n",
      "103694             0     22        0                     0              2   \n",
      "860                0    240        0                     0              2   \n",
      "15795              0      0        0                     0              3   \n",
      "\n",
      "           adr  required_car_parking_spaces  total_of_special_requests  \\\n",
      "81059    85.00                            0                          0   \n",
      "95780   105.30                            0                          2   \n",
      "106249   63.17                            0                          0   \n",
      "32165    55.00                            0                          0   \n",
      "26615   221.00                            0                          1   \n",
      "...        ...                          ...                        ...   \n",
      "76820    77.00                            1                          0   \n",
      "110268  135.00                            0                          0   \n",
      "103694   92.65                            0                          0   \n",
      "860     120.60                            0                          2   \n",
      "15795   120.00                            0                          1   \n",
      "\n",
      "        reservation_status  reservation_status_date  \n",
      "81059                    0                       59  \n",
      "95780                    1                      720  \n",
      "106249                   1                      704  \n",
      "32165                    1                      551  \n",
      "26615                    1                      175  \n",
      "...                    ...                      ...  \n",
      "76820                    1                      262  \n",
      "110268                   1                      740  \n",
      "103694                   1                      908  \n",
      "860                      0                      559  \n",
      "15795                    1                       49  \n",
      "\n",
      "[35817 rows x 31 columns] 81059     1\n",
      "95780     0\n",
      "106249    0\n",
      "32165     0\n",
      "26615     0\n",
      "         ..\n",
      "76820     0\n",
      "110268    0\n",
      "103694    0\n",
      "860       1\n",
      "15795     0\n",
      "Name: is_canceled, Length: 35817, dtype: int64\n",
      "        hotel  lead_time  arrival_date_year  arrival_date_month  \\\n",
      "81059       0         85               2016                   4   \n",
      "95780       0        125               2016                   1   \n",
      "106249      0         25               2017                   3   \n",
      "32165       1         40               2017                   4   \n",
      "26615       1         12               2016                   1   \n",
      "...       ...        ...                ...                 ...   \n",
      "76820       0          2               2016                   5   \n",
      "110268      0         91               2017                   0   \n",
      "103694      0         74               2016                   2   \n",
      "860         1        130               2015                   1   \n",
      "15795       1         16               2015                   5   \n",
      "\n",
      "        arrival_date_week_number  arrival_date_day_of_month  \\\n",
      "81059                          4                         22   \n",
      "95780                         34                         20   \n",
      "106249                         8                         19   \n",
      "32165                          3                         16   \n",
      "26615                         32                          2   \n",
      "...                          ...                        ...   \n",
      "76820                         28                          8   \n",
      "110268                        16                         20   \n",
      "103694                        53                         27   \n",
      "860                           31                          1   \n",
      "15795                         31                         31   \n",
      "\n",
      "        stays_in_weekend_nights  stays_in_week_nights  adults  children  ...  \\\n",
      "81059                         0                     1       2         0  ...   \n",
      "95780                         2                     2       2         0  ...   \n",
      "106249                        2                     3       2         0  ...   \n",
      "32165                         1                     2       1         0  ...   \n",
      "26615                         0                     4       2         0  ...   \n",
      "...                         ...                   ...     ...       ...  ...   \n",
      "76820                         0                     1       2         0  ...   \n",
      "110268                        2                     3       2         0  ...   \n",
      "103694                        0                     3       3         0  ...   \n",
      "860                           2                     5       2         0  ...   \n",
      "15795                         0                     2       1         0  ...   \n",
      "\n",
      "        deposit_type  agent  company  days_in_waiting_list  customer_type  \\\n",
      "81059              1     29        0                     0              2   \n",
      "95780              0      9        0                     0              2   \n",
      "106249             0      7        0                     0              2   \n",
      "32165              0      0        0                     0              3   \n",
      "26615              0    240        0                     0              2   \n",
      "...              ...    ...      ...                   ...            ...   \n",
      "76820              0      0       40                     0              2   \n",
      "110268             0      9        0                     0              2   \n",
      "103694             0     22        0                     0              2   \n",
      "860                0    240        0                     0              2   \n",
      "15795              0      0        0                     0              3   \n",
      "\n",
      "           adr  required_car_parking_spaces  total_of_special_requests  \\\n",
      "81059    85.00                            0                          0   \n",
      "95780   105.30                            0                          2   \n",
      "106249   63.17                            0                          0   \n",
      "32165    55.00                            0                          0   \n",
      "26615   221.00                            0                          1   \n",
      "...        ...                          ...                        ...   \n",
      "76820    77.00                            1                          0   \n",
      "110268  135.00                            0                          0   \n",
      "103694   92.65                            0                          0   \n",
      "860     120.60                            0                          2   \n",
      "15795   120.00                            0                          1   \n",
      "\n",
      "        reservation_status  reservation_status_date  \n",
      "81059                    0                       59  \n",
      "95780                    1                      720  \n",
      "106249                   1                      704  \n",
      "32165                    1                      551  \n",
      "26615                    1                      175  \n",
      "...                    ...                      ...  \n",
      "76820                    1                      262  \n",
      "110268                   1                      740  \n",
      "103694                   1                      908  \n",
      "860                      0                      559  \n",
      "15795                    1                       49  \n",
      "\n",
      "[35817 rows x 31 columns] 81059     1\n",
      "95780     0\n",
      "106249    0\n",
      "32165     0\n",
      "26615     0\n",
      "         ..\n",
      "76820     0\n",
      "110268    0\n",
      "103694    0\n",
      "860       1\n",
      "15795     0\n",
      "Name: is_canceled, Length: 35817, dtype: int64\n",
      "        hotel  lead_time  arrival_date_year  arrival_date_month  \\\n",
      "81059       0         85               2016                   4   \n",
      "95780       0        125               2016                   1   \n",
      "106249      0         25               2017                   3   \n",
      "32165       1         40               2017                   4   \n",
      "26615       1         12               2016                   1   \n",
      "...       ...        ...                ...                 ...   \n",
      "76820       0          2               2016                   5   \n",
      "110268      0         91               2017                   0   \n",
      "103694      0         74               2016                   2   \n",
      "860         1        130               2015                   1   \n",
      "15795       1         16               2015                   5   \n",
      "\n",
      "        arrival_date_week_number  arrival_date_day_of_month  \\\n",
      "81059                          4                         22   \n",
      "95780                         34                         20   \n",
      "106249                         8                         19   \n",
      "32165                          3                         16   \n",
      "26615                         32                          2   \n",
      "...                          ...                        ...   \n",
      "76820                         28                          8   \n",
      "110268                        16                         20   \n",
      "103694                        53                         27   \n",
      "860                           31                          1   \n",
      "15795                         31                         31   \n",
      "\n",
      "        stays_in_weekend_nights  stays_in_week_nights  adults  children  ...  \\\n",
      "81059                         0                     1       2         0  ...   \n",
      "95780                         2                     2       2         0  ...   \n",
      "106249                        2                     3       2         0  ...   \n",
      "32165                         1                     2       1         0  ...   \n",
      "26615                         0                     4       2         0  ...   \n",
      "...                         ...                   ...     ...       ...  ...   \n",
      "76820                         0                     1       2         0  ...   \n",
      "110268                        2                     3       2         0  ...   \n",
      "103694                        0                     3       3         0  ...   \n",
      "860                           2                     5       2         0  ...   \n",
      "15795                         0                     2       1         0  ...   \n",
      "\n",
      "        deposit_type  agent  company  days_in_waiting_list  customer_type  \\\n",
      "81059              1     29        0                     0              2   \n",
      "95780              0      9        0                     0              2   \n",
      "106249             0      7        0                     0              2   \n",
      "32165              0      0        0                     0              3   \n",
      "26615              0    240        0                     0              2   \n",
      "...              ...    ...      ...                   ...            ...   \n",
      "76820              0      0       40                     0              2   \n",
      "110268             0      9        0                     0              2   \n",
      "103694             0     22        0                     0              2   \n",
      "860                0    240        0                     0              2   \n",
      "15795              0      0        0                     0              3   \n",
      "\n",
      "           adr  required_car_parking_spaces  total_of_special_requests  \\\n",
      "81059    85.00                            0                          0   \n",
      "95780   105.30                            0                          2   \n",
      "106249   63.17                            0                          0   \n",
      "32165    55.00                            0                          0   \n",
      "26615   221.00                            0                          1   \n",
      "...        ...                          ...                        ...   \n",
      "76820    77.00                            1                          0   \n",
      "110268  135.00                            0                          0   \n",
      "103694   92.65                            0                          0   \n",
      "860     120.60                            0                          2   \n",
      "15795   120.00                            0                          1   \n",
      "\n",
      "        reservation_status  reservation_status_date  \n",
      "81059                    0                       59  \n",
      "95780                    1                      720  \n",
      "106249                   1                      704  \n",
      "32165                    1                      551  \n",
      "26615                    1                      175  \n",
      "...                    ...                      ...  \n",
      "76820                    1                      262  \n",
      "110268                   1                      740  \n",
      "103694                   1                      908  \n",
      "860                      0                      559  \n",
      "15795                    1                       49  \n",
      "\n",
      "[35817 rows x 31 columns] 81059     1\n",
      "95780     0\n",
      "106249    0\n",
      "32165     0\n",
      "26615     0\n",
      "         ..\n",
      "76820     0\n",
      "110268    0\n",
      "103694    0\n",
      "860       1\n",
      "15795     0\n",
      "Name: is_canceled, Length: 35817, dtype: int64\n",
      "        hotel  lead_time  arrival_date_year  arrival_date_month  \\\n",
      "81059       0         85               2016                   4   \n",
      "95780       0        125               2016                   1   \n",
      "106249      0         25               2017                   3   \n",
      "32165       1         40               2017                   4   \n",
      "26615       1         12               2016                   1   \n",
      "...       ...        ...                ...                 ...   \n",
      "76820       0          2               2016                   5   \n",
      "110268      0         91               2017                   0   \n",
      "103694      0         74               2016                   2   \n",
      "860         1        130               2015                   1   \n",
      "15795       1         16               2015                   5   \n",
      "\n",
      "        arrival_date_week_number  arrival_date_day_of_month  \\\n",
      "81059                          4                         22   \n",
      "95780                         34                         20   \n",
      "106249                         8                         19   \n",
      "32165                          3                         16   \n",
      "26615                         32                          2   \n",
      "...                          ...                        ...   \n",
      "76820                         28                          8   \n",
      "110268                        16                         20   \n",
      "103694                        53                         27   \n",
      "860                           31                          1   \n",
      "15795                         31                         31   \n",
      "\n",
      "        stays_in_weekend_nights  stays_in_week_nights  adults  children  ...  \\\n",
      "81059                         0                     1       2         0  ...   \n",
      "95780                         2                     2       2         0  ...   \n",
      "106249                        2                     3       2         0  ...   \n",
      "32165                         1                     2       1         0  ...   \n",
      "26615                         0                     4       2         0  ...   \n",
      "...                         ...                   ...     ...       ...  ...   \n",
      "76820                         0                     1       2         0  ...   \n",
      "110268                        2                     3       2         0  ...   \n",
      "103694                        0                     3       3         0  ...   \n",
      "860                           2                     5       2         0  ...   \n",
      "15795                         0                     2       1         0  ...   \n",
      "\n",
      "        deposit_type  agent  company  days_in_waiting_list  customer_type  \\\n",
      "81059              1     29        0                     0              2   \n",
      "95780              0      9        0                     0              2   \n",
      "106249             0      7        0                     0              2   \n",
      "32165              0      0        0                     0              3   \n",
      "26615              0    240        0                     0              2   \n",
      "...              ...    ...      ...                   ...            ...   \n",
      "76820              0      0       40                     0              2   \n",
      "110268             0      9        0                     0              2   \n",
      "103694             0     22        0                     0              2   \n",
      "860                0    240        0                     0              2   \n",
      "15795              0      0        0                     0              3   \n",
      "\n",
      "           adr  required_car_parking_spaces  total_of_special_requests  \\\n",
      "81059    85.00                            0                          0   \n",
      "95780   105.30                            0                          2   \n",
      "106249   63.17                            0                          0   \n",
      "32165    55.00                            0                          0   \n",
      "26615   221.00                            0                          1   \n",
      "...        ...                          ...                        ...   \n",
      "76820    77.00                            1                          0   \n",
      "110268  135.00                            0                          0   \n",
      "103694   92.65                            0                          0   \n",
      "860     120.60                            0                          2   \n",
      "15795   120.00                            0                          1   \n",
      "\n",
      "        reservation_status  reservation_status_date  \n",
      "81059                    0                       59  \n",
      "95780                    1                      720  \n",
      "106249                   1                      704  \n",
      "32165                    1                      551  \n",
      "26615                    1                      175  \n",
      "...                    ...                      ...  \n",
      "76820                    1                      262  \n",
      "110268                   1                      740  \n",
      "103694                   1                      908  \n",
      "860                      0                      559  \n",
      "15795                    1                       49  \n",
      "\n",
      "[35817 rows x 31 columns] 81059     1\n",
      "95780     0\n",
      "106249    0\n",
      "32165     0\n",
      "26615     0\n",
      "         ..\n",
      "76820     0\n",
      "110268    0\n",
      "103694    0\n",
      "860       1\n",
      "15795     0\n",
      "Name: is_canceled, Length: 35817, dtype: int64\n",
      "        hotel  lead_time  arrival_date_year  arrival_date_month  \\\n",
      "81059       0         85               2016                   4   \n",
      "95780       0        125               2016                   1   \n",
      "106249      0         25               2017                   3   \n",
      "32165       1         40               2017                   4   \n",
      "26615       1         12               2016                   1   \n",
      "...       ...        ...                ...                 ...   \n",
      "76820       0          2               2016                   5   \n",
      "110268      0         91               2017                   0   \n",
      "103694      0         74               2016                   2   \n",
      "860         1        130               2015                   1   \n",
      "15795       1         16               2015                   5   \n",
      "\n",
      "        arrival_date_week_number  arrival_date_day_of_month  \\\n",
      "81059                          4                         22   \n",
      "95780                         34                         20   \n",
      "106249                         8                         19   \n",
      "32165                          3                         16   \n",
      "26615                         32                          2   \n",
      "...                          ...                        ...   \n",
      "76820                         28                          8   \n",
      "110268                        16                         20   \n",
      "103694                        53                         27   \n",
      "860                           31                          1   \n",
      "15795                         31                         31   \n",
      "\n",
      "        stays_in_weekend_nights  stays_in_week_nights  adults  children  ...  \\\n",
      "81059                         0                     1       2         0  ...   \n",
      "95780                         2                     2       2         0  ...   \n",
      "106249                        2                     3       2         0  ...   \n",
      "32165                         1                     2       1         0  ...   \n",
      "26615                         0                     4       2         0  ...   \n",
      "...                         ...                   ...     ...       ...  ...   \n",
      "76820                         0                     1       2         0  ...   \n",
      "110268                        2                     3       2         0  ...   \n",
      "103694                        0                     3       3         0  ...   \n",
      "860                           2                     5       2         0  ...   \n",
      "15795                         0                     2       1         0  ...   \n",
      "\n",
      "        deposit_type  agent  company  days_in_waiting_list  customer_type  \\\n",
      "81059              1     29        0                     0              2   \n",
      "95780              0      9        0                     0              2   \n",
      "106249             0      7        0                     0              2   \n",
      "32165              0      0        0                     0              3   \n",
      "26615              0    240        0                     0              2   \n",
      "...              ...    ...      ...                   ...            ...   \n",
      "76820              0      0       40                     0              2   \n",
      "110268             0      9        0                     0              2   \n",
      "103694             0     22        0                     0              2   \n",
      "860                0    240        0                     0              2   \n",
      "15795              0      0        0                     0              3   \n",
      "\n",
      "           adr  required_car_parking_spaces  total_of_special_requests  \\\n",
      "81059    85.00                            0                          0   \n",
      "95780   105.30                            0                          2   \n",
      "106249   63.17                            0                          0   \n",
      "32165    55.00                            0                          0   \n",
      "26615   221.00                            0                          1   \n",
      "...        ...                          ...                        ...   \n",
      "76820    77.00                            1                          0   \n",
      "110268  135.00                            0                          0   \n",
      "103694   92.65                            0                          0   \n",
      "860     120.60                            0                          2   \n",
      "15795   120.00                            0                          1   \n",
      "\n",
      "        reservation_status  reservation_status_date  \n",
      "81059                    0                       59  \n",
      "95780                    1                      720  \n",
      "106249                   1                      704  \n",
      "32165                    1                      551  \n",
      "26615                    1                      175  \n",
      "...                    ...                      ...  \n",
      "76820                    1                      262  \n",
      "110268                   1                      740  \n",
      "103694                   1                      908  \n",
      "860                      0                      559  \n",
      "15795                    1                       49  \n",
      "\n",
      "[35817 rows x 31 columns] 81059     1\n",
      "95780     0\n",
      "106249    0\n",
      "32165     0\n",
      "26615     0\n",
      "         ..\n",
      "76820     0\n",
      "110268    0\n",
      "103694    0\n",
      "860       1\n",
      "15795     0\n",
      "Name: is_canceled, Length: 35817, dtype: int64\n",
      "        hotel  lead_time  arrival_date_year  arrival_date_month  \\\n",
      "81059       0         85               2016                   4   \n",
      "95780       0        125               2016                   1   \n",
      "106249      0         25               2017                   3   \n",
      "32165       1         40               2017                   4   \n",
      "26615       1         12               2016                   1   \n",
      "...       ...        ...                ...                 ...   \n",
      "76820       0          2               2016                   5   \n",
      "110268      0         91               2017                   0   \n",
      "103694      0         74               2016                   2   \n",
      "860         1        130               2015                   1   \n",
      "15795       1         16               2015                   5   \n",
      "\n",
      "        arrival_date_week_number  arrival_date_day_of_month  \\\n",
      "81059                          4                         22   \n",
      "95780                         34                         20   \n",
      "106249                         8                         19   \n",
      "32165                          3                         16   \n",
      "26615                         32                          2   \n",
      "...                          ...                        ...   \n",
      "76820                         28                          8   \n",
      "110268                        16                         20   \n",
      "103694                        53                         27   \n",
      "860                           31                          1   \n",
      "15795                         31                         31   \n",
      "\n",
      "        stays_in_weekend_nights  stays_in_week_nights  adults  children  ...  \\\n",
      "81059                         0                     1       2         0  ...   \n",
      "95780                         2                     2       2         0  ...   \n",
      "106249                        2                     3       2         0  ...   \n",
      "32165                         1                     2       1         0  ...   \n",
      "26615                         0                     4       2         0  ...   \n",
      "...                         ...                   ...     ...       ...  ...   \n",
      "76820                         0                     1       2         0  ...   \n",
      "110268                        2                     3       2         0  ...   \n",
      "103694                        0                     3       3         0  ...   \n",
      "860                           2                     5       2         0  ...   \n",
      "15795                         0                     2       1         0  ...   \n",
      "\n",
      "        deposit_type  agent  company  days_in_waiting_list  customer_type  \\\n",
      "81059              1     29        0                     0              2   \n",
      "95780              0      9        0                     0              2   \n",
      "106249             0      7        0                     0              2   \n",
      "32165              0      0        0                     0              3   \n",
      "26615              0    240        0                     0              2   \n",
      "...              ...    ...      ...                   ...            ...   \n",
      "76820              0      0       40                     0              2   \n",
      "110268             0      9        0                     0              2   \n",
      "103694             0     22        0                     0              2   \n",
      "860                0    240        0                     0              2   \n",
      "15795              0      0        0                     0              3   \n",
      "\n",
      "           adr  required_car_parking_spaces  total_of_special_requests  \\\n",
      "81059    85.00                            0                          0   \n",
      "95780   105.30                            0                          2   \n",
      "106249   63.17                            0                          0   \n",
      "32165    55.00                            0                          0   \n",
      "26615   221.00                            0                          1   \n",
      "...        ...                          ...                        ...   \n",
      "76820    77.00                            1                          0   \n",
      "110268  135.00                            0                          0   \n",
      "103694   92.65                            0                          0   \n",
      "860     120.60                            0                          2   \n",
      "15795   120.00                            0                          1   \n",
      "\n",
      "        reservation_status  reservation_status_date  \n",
      "81059                    0                       59  \n",
      "95780                    1                      720  \n",
      "106249                   1                      704  \n",
      "32165                    1                      551  \n",
      "26615                    1                      175  \n",
      "...                    ...                      ...  \n",
      "76820                    1                      262  \n",
      "110268                   1                      740  \n",
      "103694                   1                      908  \n",
      "860                      0                      559  \n",
      "15795                    1                       49  \n",
      "\n",
      "[35817 rows x 31 columns] 81059     1\n",
      "95780     0\n",
      "106249    0\n",
      "32165     0\n",
      "26615     0\n",
      "         ..\n",
      "76820     0\n",
      "110268    0\n",
      "103694    0\n",
      "860       1\n",
      "15795     0\n",
      "Name: is_canceled, Length: 35817, dtype: int64\n"
     ]
    }
   ],
   "source": [
    "for i in range(10):\n",
    "    print(x_train,y_train)"
   ]
  },
  {
   "cell_type": "code",
   "execution_count": 34,
   "metadata": {},
   "outputs": [
    {
     "name": "stdout",
     "output_type": "stream",
     "text": [
      "Shape of X_train: (35817, 31)\n",
      "Shape of X_test: (83573, 31)\n",
      "Shape of y_train: (35817,)\n",
      "Shape of y_test: (83573,)\n"
     ]
    }
   ],
   "source": [
    "print(\"Shape of X_train:\", x_train.shape)\n",
    "print(\"Shape of X_test:\", x_test.shape)\n",
    "print(\"Shape of y_train:\", y_train.shape)\n",
    "print(\"Shape of y_test:\", y_test.shape)"
   ]
  },
  {
   "cell_type": "code",
   "execution_count": 35,
   "metadata": {},
   "outputs": [
    {
     "name": "stderr",
     "output_type": "stream",
     "text": [
      "c:\\Users\\Amit\\AppData\\Local\\Programs\\Python\\Python310\\lib\\site-packages\\sklearn\\linear_model\\_logistic.py:460: ConvergenceWarning:\n",
      "\n",
      "lbfgs failed to converge (status=1):\n",
      "STOP: TOTAL NO. of ITERATIONS REACHED LIMIT.\n",
      "\n",
      "Increase the number of iterations (max_iter) or scale the data as shown in:\n",
      "    https://scikit-learn.org/stable/modules/preprocessing.html\n",
      "Please also refer to the documentation for alternative solver options:\n",
      "    https://scikit-learn.org/stable/modules/linear_model.html#logistic-regression\n",
      "\n"
     ]
    }
   ],
   "source": [
    "def model_selection(x,y):\n",
    "    lr = LogisticRegression().fit(x,y)\n",
    "    rfc = RandomForestClassifier().fit(x,y)\n",
    "    gnb = GaussianNB().fit(x,y)\n",
    "    knn = neighbors.KNeighborsClassifier().fit(x,y)\n",
    "    svm_model = svm.SVC(kernel='linear').fit(x,y)\n",
    "    gbc = GradientBoostingClassifier().fit(x,y)\n",
    "\n",
    "    models = {\n",
    "        'Logistic Regression': lr,\n",
    "        'Random Forest': rfc,\n",
    "        'Gaussian Naive Bayes': gnb,\n",
    "        'K-Nearest Neighbors': knn,\n",
    "        'SVM': svm_model,\n",
    "        'Gradient Boosting': gbc\n",
    "    }\n",
    "\n",
    "    return models \n",
    "\n",
    "trained_model = model_selection(x_train,y_train)    "
   ]
  },
  {
   "cell_type": "code",
   "execution_count": 36,
   "metadata": {},
   "outputs": [],
   "source": [
    "# Put models in dicionary\n",
    "models = {\"Logistic Regression\": LogisticRegression(),\n",
    "          \n",
    "          \"Random Forest\": RandomForestClassifier(),\n",
    "          \"Gaussian Naive Bayes\":GaussianNB(),\n",
    "          \"SVM\":svm.SVC(kernel='linear'),\n",
    "          \"Gradient Boosting\":GradientBoostingClassifier()}\n",
    "\n",
    "# see for example here name = KNN and model =KNeighborsClassifier()\n",
    "\n",
    "# Create function to fit and score model\n",
    "def fit_and_score(models,X_train,X_test,y_train,y_test):\n",
    "    \"\"\"\n",
    "    Fits and evaluate given ml model\n",
    "    models: a dictionary of different scilit-learn machine learning models\n",
    "    x_train : training data\n",
    "    x_test : testing data\n",
    "    \"\"\"\n",
    "    # set up random seed\n",
    "    np.random.seed(42)\n",
    "    # Make a dicitionary to keep models\n",
    "    model_score = {}\n",
    "    # Loop through models\n",
    "    for name, model in models.items():\n",
    "        #Fit the model to data\n",
    "        model.fit(X_train,y_train)\n",
    "        # Evaluate the model and append its score to model_score\n",
    "        model_score[name]=model.score(X_test,y_test)\n",
    "    return model_score"
   ]
  },
  {
   "cell_type": "code",
   "execution_count": 37,
   "metadata": {},
   "outputs": [
    {
     "name": "stderr",
     "output_type": "stream",
     "text": [
      "c:\\Users\\Amit\\AppData\\Local\\Programs\\Python\\Python310\\lib\\site-packages\\sklearn\\linear_model\\_logistic.py:460: ConvergenceWarning:\n",
      "\n",
      "lbfgs failed to converge (status=1):\n",
      "STOP: TOTAL NO. of ITERATIONS REACHED LIMIT.\n",
      "\n",
      "Increase the number of iterations (max_iter) or scale the data as shown in:\n",
      "    https://scikit-learn.org/stable/modules/preprocessing.html\n",
      "Please also refer to the documentation for alternative solver options:\n",
      "    https://scikit-learn.org/stable/modules/linear_model.html#logistic-regression\n",
      "\n"
     ]
    },
    {
     "data": {
      "text/plain": [
       "{'Logistic Regression': 0.7382408194033958,\n",
       " 'Random Forest': 0.9998923097172532,\n",
       " 'Gaussian Naive Bayes': 0.9928206478168786,\n",
       " 'SVM': 0.9899489069436301,\n",
       " 'Gradient Boosting': 1.0}"
      ]
     },
     "execution_count": 37,
     "metadata": {},
     "output_type": "execute_result"
    }
   ],
   "source": [
    "model_score = fit_and_score(models,x_train,x_test,y_train,y_test)\n",
    "model_score"
   ]
  },
  {
   "cell_type": "markdown",
   "metadata": {},
   "source": [
    "# Model Comparision"
   ]
  },
  {
   "cell_type": "code",
   "execution_count": 38,
   "metadata": {},
   "outputs": [
    {
     "data": {
      "text/plain": [
       "(array([0, 1, 2, 3, 4]),\n",
       " [Text(0, 0, 'Logistic Regression'),\n",
       "  Text(1, 0, 'Random Forest'),\n",
       "  Text(2, 0, 'Gaussian Naive Bayes'),\n",
       "  Text(3, 0, 'SVM'),\n",
       "  Text(4, 0, 'Gradient Boosting')])"
      ]
     },
     "execution_count": 38,
     "metadata": {},
     "output_type": "execute_result"
    },
    {
     "data": {
      "image/png": "[encoded data removed]",
      "text/plain": [
       "<Figure size 640x480 with 1 Axes>"
      ]
     },
     "metadata": {},
     "output_type": "display_data"
    }
   ],
   "source": [
    "model_compare=pd.DataFrame(model_score, index=[\"accuracy\"])\n",
    "# model_compare.plot.bar(); # give close bar to each other try it\n",
    "model_compare.T.plot.bar()\n",
    "plt.xticks(rotation=90)"
   ]
  },
  {
   "cell_type": "markdown",
   "metadata": {},
   "source": [
    "we will do following:\n",
    "\n",
    "-> Hyperparameter Tuning\n",
    "\n",
    "-> Feauture importance\n",
    "\n",
    "-> Confusion matrix\n",
    "\n",
    "-> Cross-Validation\n",
    "\n",
    "-> Precision\n",
    "\n",
    "-> Recall\n",
    "\n",
    "-> F1 score\n",
    "\n",
    "-> Classification report\n",
    "\n",
    "-> ROC curve\n",
    "\n",
    "-> Area under the curve(AUC)"
   ]
  },
  {
   "cell_type": "code",
   "execution_count": 39,
   "metadata": {},
   "outputs": [],
   "source": [
    "# Lets tune RandomforestClassifier with hands\n",
    "\n",
    "train_score=[]\n",
    "test_score=[]\n",
    "\n",
    "\n",
    "neighbors = range(1,21)\n",
    "\n",
    "# setup KNN instance\n",
    "rnc = RandomForestClassifier()\n",
    "\n",
    "# Loop through differenct n_neighbouts\n",
    "for i in neighbors:\n",
    "    \n",
    "    rnc.fit(x_train,y_train)\n",
    "    \n",
    "    # updating training scores list\n",
    "    train_score.append(rnc.score(x_train,y_train))\n",
    "    \n",
    "    # updating testing score list\n",
    "    test_score.append(rnc.score(x_test,y_test))"
   ]
  },
  {
   "cell_type": "markdown",
   "metadata": {},
   "source": [
    "### Hypertuning with GridSearchCV"
   ]
  },
  {
   "cell_type": "code",
   "execution_count": 40,
   "metadata": {},
   "outputs": [
    {
     "name": "stdout",
     "output_type": "stream",
     "text": [
      "Fitting 5 folds for each of 30 candidates, totalling 150 fits\n"
     ]
    },
    {
     "data": {
      "text/html": [
       "<style>#sk-container-id-1 {color: black;}#sk-container-id-1 pre{padding: 0;}#sk-container-id-1 div.sk-toggleable {background-color: white;}#sk-container-id-1 label.sk-toggleable__label {cursor: pointer;display: block;width: 100%;margin-bottom: 0;padding: 0.3em;box-sizing: border-box;text-align: center;}#sk-container-id-1 label.sk-toggleable__label-arrow:before {content: \"▸\";float: left;margin-right: 0.25em;color: #696969;}#sk-container-id-1 label.sk-toggleable__label-arrow:hover:before {color: black;}#sk-container-id-1 div.sk-estimator:hover label.sk-toggleable__label-arrow:before {color: black;}#sk-container-id-1 div.sk-toggleable__content {max-height: 0;max-width: 0;overflow: hidden;text-align: left;background-color: #f0f8ff;}#sk-container-id-1 div.sk-toggleable__content pre {margin: 0.2em;color: black;border-radius: 0.25em;background-color: #f0f8ff;}#sk-container-id-1 input.sk-toggleable__control:checked~div.sk-toggleable__content {max-height: 200px;max-width: 100%;overflow: auto;}#sk-container-id-1 input.sk-toggleable__control:checked~label.sk-toggleable__label-arrow:before {content: \"▾\";}#sk-container-id-1 div.sk-estimator input.sk-toggleable__control:checked~label.sk-toggleable__label {background-color: #d4ebff;}#sk-container-id-1 div.sk-label input.sk-toggleable__control:checked~label.sk-toggleable__label {background-color: #d4ebff;}#sk-container-id-1 input.sk-hidden--visually {border: 0;clip: rect(1px 1px 1px 1px);clip: rect(1px, 1px, 1px, 1px);height: 1px;margin: -1px;overflow: hidden;padding: 0;position: absolute;width: 1px;}#sk-container-id-1 div.sk-estimator {font-family: monospace;background-color: #f0f8ff;border: 1px dotted black;border-radius: 0.25em;box-sizing: border-box;margin-bottom: 0.5em;}#sk-container-id-1 div.sk-estimator:hover {background-color: #d4ebff;}#sk-container-id-1 div.sk-parallel-item::after {content: \"\";width: 100%;border-bottom: 1px solid gray;flex-grow: 1;}#sk-container-id-1 div.sk-label:hover label.sk-toggleable__label {background-color: #d4ebff;}#sk-container-id-1 div.sk-serial::before {content: \"\";position: absolute;border-left: 1px solid gray;box-sizing: border-box;top: 0;bottom: 0;left: 50%;z-index: 0;}#sk-container-id-1 div.sk-serial {display: flex;flex-direction: column;align-items: center;background-color: white;padding-right: 0.2em;padding-left: 0.2em;position: relative;}#sk-container-id-1 div.sk-item {position: relative;z-index: 1;}#sk-container-id-1 div.sk-parallel {display: flex;align-items: stretch;justify-content: center;background-color: white;position: relative;}#sk-container-id-1 div.sk-item::before, #sk-container-id-1 div.sk-parallel-item::before {content: \"\";position: absolute;border-left: 1px solid gray;box-sizing: border-box;top: 0;bottom: 0;left: 50%;z-index: -1;}#sk-container-id-1 div.sk-parallel-item {display: flex;flex-direction: column;z-index: 1;position: relative;background-color: white;}#sk-container-id-1 div.sk-parallel-item:first-child::after {align-self: flex-end;width: 50%;}#sk-container-id-1 div.sk-parallel-item:last-child::after {align-self: flex-start;width: 50%;}#sk-container-id-1 div.sk-parallel-item:only-child::after {width: 0;}#sk-container-id-1 div.sk-dashed-wrapped {border: 1px dashed gray;margin: 0 0.4em 0.5em 0.4em;box-sizing: border-box;padding-bottom: 0.4em;background-color: white;}#sk-container-id-1 div.sk-label label {font-family: monospace;font-weight: bold;display: inline-block;line-height: 1.2em;}#sk-container-id-1 div.sk-label-container {text-align: center;}#sk-container-id-1 div.sk-container {/* jupyter's `normalize.less` sets `[hidden] { display: none; }` but bootstrap.min.css set `[hidden] { display: none !important; }` so we also need the `!important` here to be able to override the default hidden behavior on the sphinx rendered scikit-learn.org. See: https://github.com/scikit-learn/scikit-learn/issues/21755 */display: inline-block !important;position: relative;}#sk-container-id-1 div.sk-text-repr-fallback {display: none;}</style><div id=\"sk-container-id-1\" class=\"sk-top-container\"><div class=\"sk-text-repr-fallback\"><pre>GridSearchCV(cv=5, estimator=LogisticRegression(),\n",
       "             param_grid={&#x27;C&#x27;: array([1.00000000e-04, 1.88739182e-04, 3.56224789e-04, 6.72335754e-04,\n",
       "       1.26896100e-03, 2.39502662e-03, 4.52035366e-03, 8.53167852e-03,\n",
       "       1.61026203e-02, 3.03919538e-02, 5.73615251e-02, 1.08263673e-01,\n",
       "       2.04335972e-01, 3.85662042e-01, 7.27895384e-01, 1.37382380e+00,\n",
       "       2.59294380e+00, 4.89390092e+00, 9.23670857e+00, 1.74332882e+01,\n",
       "       3.29034456e+01, 6.21016942e+01, 1.17210230e+02, 2.21221629e+02,\n",
       "       4.17531894e+02, 7.88046282e+02, 1.48735211e+03, 2.80721620e+03,\n",
       "       5.29831691e+03, 1.00000000e+04]),\n",
       "                         &#x27;solver&#x27;: [&#x27;liblinear&#x27;]},\n",
       "             verbose=True)</pre><b>In a Jupyter environment, please rerun this cell to show the HTML representation or trust the notebook. <br />On GitHub, the HTML representation is unable to render, please try loading this page with nbviewer.org.</b></div><div class=\"sk-container\" hidden><div class=\"sk-item sk-dashed-wrapped\"><div class=\"sk-label-container\"><div class=\"sk-label sk-toggleable\"><input class=\"sk-toggleable__control sk-hidden--visually\" id=\"sk-estimator-id-1\" type=\"checkbox\" ><label for=\"sk-estimator-id-1\" class=\"sk-toggleable__label sk-toggleable__label-arrow\">GridSearchCV</label><div class=\"sk-toggleable__content\"><pre>GridSearchCV(cv=5, estimator=LogisticRegression(),\n",
       "             param_grid={&#x27;C&#x27;: array([1.00000000e-04, 1.88739182e-04, 3.56224789e-04, 6.72335754e-04,\n",
       "       1.26896100e-03, 2.39502662e-03, 4.52035366e-03, 8.53167852e-03,\n",
       "       1.61026203e-02, 3.03919538e-02, 5.73615251e-02, 1.08263673e-01,\n",
       "       2.04335972e-01, 3.85662042e-01, 7.27895384e-01, 1.37382380e+00,\n",
       "       2.59294380e+00, 4.89390092e+00, 9.23670857e+00, 1.74332882e+01,\n",
       "       3.29034456e+01, 6.21016942e+01, 1.17210230e+02, 2.21221629e+02,\n",
       "       4.17531894e+02, 7.88046282e+02, 1.48735211e+03, 2.80721620e+03,\n",
       "       5.29831691e+03, 1.00000000e+04]),\n",
       "                         &#x27;solver&#x27;: [&#x27;liblinear&#x27;]},\n",
       "             verbose=True)</pre></div></div></div><div class=\"sk-parallel\"><div class=\"sk-parallel-item\"><div class=\"sk-item\"><div class=\"sk-label-container\"><div class=\"sk-label sk-toggleable\"><input class=\"sk-toggleable__control sk-hidden--visually\" id=\"sk-estimator-id-2\" type=\"checkbox\" ><label for=\"sk-estimator-id-2\" class=\"sk-toggleable__label sk-toggleable__label-arrow\">estimator: LogisticRegression</label><div class=\"sk-toggleable__content\"><pre>LogisticRegression()</pre></div></div></div><div class=\"sk-serial\"><div class=\"sk-item\"><div class=\"sk-estimator sk-toggleable\"><input class=\"sk-toggleable__control sk-hidden--visually\" id=\"sk-estimator-id-3\" type=\"checkbox\" ><label for=\"sk-estimator-id-3\" class=\"sk-toggleable__label sk-toggleable__label-arrow\">LogisticRegression</label><div class=\"sk-toggleable__content\"><pre>LogisticRegression()</pre></div></div></div></div></div></div></div></div></div></div>"
      ],
      "text/plain": [
       "GridSearchCV(cv=5, estimator=LogisticRegression(),\n",
       "             param_grid={'C': array([1.00000000e-04, 1.88739182e-04, 3.56224789e-04, 6.72335754e-04,\n",
       "       1.26896100e-03, 2.39502662e-03, 4.52035366e-03, 8.53167852e-03,\n",
       "       1.61026203e-02, 3.03919538e-02, 5.73615251e-02, 1.08263673e-01,\n",
       "       2.04335972e-01, 3.85662042e-01, 7.27895384e-01, 1.37382380e+00,\n",
       "       2.59294380e+00, 4.89390092e+00, 9.23670857e+00, 1.74332882e+01,\n",
       "       3.29034456e+01, 6.21016942e+01, 1.17210230e+02, 2.21221629e+02,\n",
       "       4.17531894e+02, 7.88046282e+02, 1.48735211e+03, 2.80721620e+03,\n",
       "       5.29831691e+03, 1.00000000e+04]),\n",
       "                         'solver': ['liblinear']},\n",
       "             verbose=True)"
      ]
     },
     "execution_count": 40,
     "metadata": {},
     "output_type": "execute_result"
    }
   ],
   "source": [
    "# Different hyperparameters for our LogisticRegression Model\n",
    "np.random.seed(42)\n",
    "log_reg_grid = {\"C\":np.logspace(-4,4,30),\n",
    "                \"solver\":[\"liblinear\"]}\n",
    "\n",
    "# Setup grid hyperparameter search for LogisticRegression\n",
    "gs_log_reg = GridSearchCV(LogisticRegression(),\n",
    "                         param_grid=log_reg_grid,\n",
    "                         cv=5,\n",
    "                         verbose=True)\n",
    "\n",
    "# Fit the model\n",
    "gs_log_reg.fit(x_train,y_train)"
   ]
  },
  {
   "cell_type": "markdown",
   "metadata": {},
   "source": [
    "##### Evaluating our tuned machine learning classifier , beyond accuracy\n",
    "\n",
    "ROC curve and AUC curve\n",
    "\n",
    "Confusion matrix\n",
    "\n",
    "Classification report\n",
    "\n",
    "Precision\n",
    "\n",
    "Recall\n",
    "\n",
    "F1-score\n",
    "\n",
    "\n",
    "*To make comparision and evaluate our trained model, first we need to make prediction*"
   ]
  },
  {
   "cell_type": "code",
   "execution_count": 41,
   "metadata": {},
   "outputs": [
    {
     "data": {
      "text/plain": [
       "0.9899608725306019"
      ]
     },
     "execution_count": 41,
     "metadata": {},
     "output_type": "execute_result"
    }
   ],
   "source": [
    "gs_log_reg.score(x_test,y_test)"
   ]
  },
  {
   "cell_type": "code",
   "execution_count": 42,
   "metadata": {},
   "outputs": [],
   "source": [
    "# Make prediction with tuned model\n",
    "y_preds = gs_log_reg.predict(x_test)"
   ]
  },
  {
   "cell_type": "code",
   "execution_count": 43,
   "metadata": {},
   "outputs": [
    {
     "data": {
      "text/plain": [
       "array([ True,  True,  True, ...,  True,  True,  True])"
      ]
     },
     "execution_count": 43,
     "metadata": {},
     "output_type": "execute_result"
    }
   ],
   "source": [
    "np.array(y_preds==y_test)"
   ]
  },
  {
   "cell_type": "markdown",
   "metadata": {},
   "source": [
    "#### Graph comparing actual and  predicted value"
   ]
  },
  {
   "cell_type": "code",
   "execution_count": 44,
   "metadata": {},
   "outputs": [
    {
     "data": {
      "image/png": "[encoded data removed]",
      "text/plain": [
       "<Figure size 640x480 with 1 Axes>"
      ]
     },
     "metadata": {},
     "output_type": "display_data"
    }
   ],
   "source": [
    "\n",
    "\n",
    "# Assuming y_test and y_pred are defined\n",
    "# y_test: Actual values\n",
    "# y_preds: Predicted values\n",
    "\n",
    "# Create a scatter plot for actual vs. predicted values\n",
    "plt.scatter(y_test, y_preds, color='blue', alpha=0.5, label='Data Points')\n",
    "plt.plot([min(y_test), max(y_test)], [min(y_test), max(y_test)], linestyle='--', color='red', label='Perfect Prediction Line')  # Diagonal line\n",
    "\n",
    "# Add labels and title\n",
    "plt.xlabel('Actual Values')\n",
    "plt.ylabel('Predicted Values')\n",
    "plt.title('Actual vs. Predicted (Scatter Plot)')\n",
    "\n",
    "# Add legend\n",
    "plt.legend()\n",
    "\n",
    "# Show the plot\n",
    "plt.show()\n"
   ]
  },
  {
   "cell_type": "code",
   "execution_count": 45,
   "metadata": {},
   "outputs": [
    {
     "data": {
      "image/png": "[encoded data removed]",
      "text/plain": [
       "<Figure size 300x300 with 1 Axes>"
      ]
     },
     "metadata": {},
     "output_type": "display_data"
    }
   ],
   "source": [
    "# Confusion matrix\n",
    "sb.set(font_scale=1.5)\n",
    "\n",
    "def plot_conf_mat(y_test, y_preds):\n",
    "    \"\"\"\n",
    "    We are plotting confusion matrix using seaborn's heatmap\n",
    "    \"\"\"\n",
    "    fig, ax=plt.subplots(figsize=(3,3))\n",
    "    ax=sb.heatmap(confusion_matrix(y_test,y_preds),\n",
    "                  annot=True,\n",
    "                  cbar=False,\n",
    "                  fmt='d')\n",
    "    plt.xlabel(\"True Label(tested one)\")\n",
    "    plt.ylabel(\"Predicted label\")\n",
    "    \n",
    "    # we dont need but if our font text is little up or down we can fix this by this\n",
    "    \n",
    "#     bottom,top=ax.get_ylim()\n",
    "#     ax.set_ylim(bottom + 0.5, top -0.5)\n",
    "    \n",
    "plot_conf_mat(y_test=y_test,\n",
    "              y_preds=y_preds)"
   ]
  },
  {
   "cell_type": "markdown",
   "metadata": {},
   "source": [
    "Now lets get Classification report"
   ]
  },
  {
   "cell_type": "code",
   "execution_count": 46,
   "metadata": {},
   "outputs": [
    {
     "name": "stdout",
     "output_type": "stream",
     "text": [
      "              precision    recall  f1-score   support\n",
      "\n",
      "           0       0.98      1.00      0.99     52495\n",
      "           1       1.00      0.97      0.99     31078\n",
      "\n",
      "    accuracy                           0.99     83573\n",
      "   macro avg       0.99      0.99      0.99     83573\n",
      "weighted avg       0.99      0.99      0.99     83573\n",
      "\n"
     ]
    }
   ],
   "source": [
    "print(classification_report(y_test, y_preds))\n"
   ]
  },
  {
   "cell_type": "markdown",
   "metadata": {},
   "source": [
    "The classification report provides a summary of the model's performance for a binary classification problem, including metrics like precision, recall, F1-score, and support for each class. Here's a breakdown of the information presented in the classification report:\n",
    "\n",
    "- **Precision**:\n",
    "  - For class 0 (the first class), the precision is 0.98. This means that 98% of the instances predicted as class 0 were correct.\n",
    "  - For class 1 (the second class), the precision is 1.00. This means that 100% of the instances predicted as class 1 were correct.\n",
    "\n",
    "- **Recall (Sensitivity)**:\n",
    "  - For class 0, the recall is 1.00. This means that the model correctly identified all actual instances of class 0.\n",
    "  - For class 1, the recall is 0.97. This means that the model identified 97% of the actual instances of class 1.\n",
    "\n",
    "- **F1-score**:\n",
    "  - The F1-score is the harmonic mean of precision and recall. It provides a balance between precision and recall.\n",
    "  - The F1-score for class 0 is 0.99, and for class 1, it is also 0.99.\n",
    "\n",
    "- **Support**:\n",
    "  - The support is the number of actual occurrences of each class in the dataset.\n",
    "  - For class 0, the support is 52,495, indicating there are 52,495 instances of class 0 in the dataset.\n",
    "  - For class 1, the support is 31,078, indicating there are 31,078 instances of class 1 in the dataset.\n",
    "\n",
    "- **Accuracy**:\n",
    "  - The overall accuracy of the model is 0.99, which means the model correctly predicted the class for approximately 99% of the instances.\n",
    "\n",
    "- **Macro Average**:\n",
    "  - The macro average calculates the mean of the precision, recall, and F1-score for each class. It gives equal weight to each class, regardless of its support.\n",
    "\n",
    "- **Weighted Average**:\n",
    "  - The weighted average calculates the mean of the metrics (precision, recall, F1-score) weighted by the support of each class. It provides more weight to the metrics of the larger class.\n",
    "\n",
    "In summary, the classification report gives you a comprehensive view of the model's performance for each class and an overall performance summary, considering both individual class performance and the dataset's class distribution."
   ]
  },
  {
   "cell_type": "markdown",
   "metadata": {},
   "source": [
    "## Feature Importance\n",
    "Feature importance is another as asking,\"which features contributed the mose to the outcome of model and how they contribute\""
   ]
  },
  {
   "cell_type": "code",
   "execution_count": 47,
   "metadata": {},
   "outputs": [
    {
     "name": "stdout",
     "output_type": "stream",
     "text": [
      "Best Model Parameters: {'C': 0.1082636733874054, 'solver': 'liblinear'}\n",
      "Accuracy of Best Model: 0.9899608725306019\n"
     ]
    }
   ],
   "source": [
    "best_rf_model = gs_log_reg.best_estimator_\n",
    "_\n",
    "y_pred = best_rf_model.predict(x_test)\n",
    "accuracy = accuracy_score(y_test, y_pred)\n",
    "print(\"Best Model Parameters:\", gs_log_reg.best_params_)\n",
    "print(\"Accuracy of Best Model:\", accuracy)  \n"
   ]
  },
  {
   "cell_type": "markdown",
   "metadata": {},
   "source": [
    "## Exporting model"
   ]
  },
  {
   "cell_type": "code",
   "execution_count": 48,
   "metadata": {},
   "outputs": [],
   "source": [
    "with open('model.pkl', 'wb') as f:\n",
    "    pickle.dump(gs_log_reg, f)"
   ]
  },
  {
   "cell_type": "code",
   "execution_count": 49,
   "metadata": {},
   "outputs": [],
   "source": [
    "with open('model.pkl', 'rb') as f:\n",
    "    loaded_model = pickle.load(f)"
   ]
  },
  {
   "cell_type": "code",
   "execution_count": 50,
   "metadata": {},
   "outputs": [
    {
     "data": {
      "text/plain": [
       "0.9899608725306019"
      ]
     },
     "execution_count": 50,
     "metadata": {},
     "output_type": "execute_result"
    }
   ],
   "source": [
    "loaded_model.score(x_test,y_test)"
   ]
  },
  {
   "cell_type": "code",
   "execution_count": 51,
   "metadata": {},
   "outputs": [
    {
     "data": {
      "text/plain": [
       "['hotel',\n",
       " 'lead_time',\n",
       " 'arrival_date_year',\n",
       " 'arrival_date_month',\n",
       " 'arrival_date_week_number',\n",
       " 'arrival_date_day_of_month',\n",
       " 'stays_in_weekend_nights',\n",
       " 'stays_in_week_nights',\n",
       " 'adults',\n",
       " 'children',\n",
       " 'babies',\n",
       " 'meal',\n",
       " 'country',\n",
       " 'market_segment',\n",
       " 'distribution_channel',\n",
       " 'is_repeated_guest',\n",
       " 'previous_cancellations',\n",
       " 'previous_bookings_not_canceled',\n",
       " 'reserved_room_type',\n",
       " 'assigned_room_type',\n",
       " 'booking_changes',\n",
       " 'deposit_type',\n",
       " 'agent',\n",
       " 'company',\n",
       " 'days_in_waiting_list',\n",
       " 'customer_type',\n",
       " 'adr',\n",
       " 'required_car_parking_spaces',\n",
       " 'total_of_special_requests',\n",
       " 'reservation_status',\n",
       " 'reservation_status_date']"
      ]
     },
     "execution_count": 51,
     "metadata": {},
     "output_type": "execute_result"
    }
   ],
   "source": [
    "x_train.columns.to_list()"
   ]
  },
  {
   "cell_type": "code",
   "execution_count": 70,
   "metadata": {},
   "outputs": [
    {
     "name": "stdout",
     "output_type": "stream",
     "text": [
      "NumPy version: 1.23.3\n"
     ]
    }
   ],
   "source": [
    "import numpy as np\n",
    "\n",
    "print(\"NumPy version:\", np.__version__)\n"
   ]
  },
  {
   "cell_type": "code",
   "execution_count": 71,
   "metadata": {},
   "outputs": [
    {
     "name": "stdout",
     "output_type": "stream",
     "text": [
      "NumPy version: 1.23.3\n"
     ]
    }
   ],
   "source": [
    "import numpy as np\n",
    "\n",
    "print(\"NumPy version:\", np.__version__)\n"
   ]
  },
  {
   "cell_type": "code",
   "execution_count": null,
   "metadata": {},
   "outputs": [],
   "source": []
  }
 ],
 "metadata": {
  "kernelspec": {
   "display_name": "Python 3",
   "language": "python",
   "name": "python3"
  },
  "language_info": {
   "codemirror_mode": {
    "name": "ipython",
    "version": 3
   },
   "file_extension": ".py",
   "mimetype": "text/x-python",
   "name": "python",
   "nbconvert_exporter": "python",
   "pygments_lexer": "ipython3",
   "version": "3.10.6"
  },
  "orig_nbformat": 4
 },
 "nbformat": 4,
 "nbformat_minor": 2
}
